{
 "cells": [
  {
   "cell_type": "markdown",
   "metadata": {
    "id": "mWf564UjzaRt"
   },
   "source": [
    "# Laboratorio Modulo C - scikit learn - Random forest"
   ]
  },
  {
   "cell_type": "markdown",
   "metadata": {
    "id": "JtK41Jy8JyWQ"
   },
   "source": [
    "Proviamo ad applicare le random forest per fare classificazione con il dataset digits. L'obiettivo è quello di classificare automaticamente le cifre da 0 a 9."
   ]
  },
  {
   "cell_type": "code",
   "execution_count": 1,
   "metadata": {
    "id": "9Hc6cbfDKk5W"
   },
   "outputs": [],
   "source": [
    "# importo le varie librerie\n",
    "import matplotlib.pyplot as plt\n",
    "from sklearn import datasets, metrics\n",
    "from sklearn.ensemble import RandomForestClassifier\n",
    "from sklearn.model_selection import train_test_split"
   ]
  },
  {
   "cell_type": "code",
   "execution_count": 2,
   "metadata": {
    "colab": {
     "base_uri": "https://localhost:8080/",
     "height": 127
    },
    "id": "6BxwzbPKaX3E",
    "outputId": "b3c5eba1-e4a2-4d6a-c825-b79430b9f6a9"
   },
   "outputs": [
    {
     "data": {
      "image/png": "[encoded data removed]",
      "text/plain": [
       "<Figure size 720x216 with 6 Axes>"
      ]
     },
     "metadata": {
      "needs_background": "light"
     },
     "output_type": "display_data"
    }
   ],
   "source": [
    "# carico il dataset digits\n",
    "digits = datasets.load_digits()\n",
    "\n",
    "# mostro le prime 6 immagini\n",
    "_, axes = plt.subplots(nrows=1, ncols=6, figsize=(10, 3))\n",
    "for ax, image, label in zip(axes, digits.images, digits.target):\n",
    "    ax.set_axis_off()\n",
    "    ax.imshow(image, cmap=plt.cm.gray_r, interpolation=\"nearest\")\n",
    "    ax.set_title(f\"Training: {label}\")"
   ]
  },
  {
   "cell_type": "code",
   "execution_count": 3,
   "metadata": {
    "id": "2wx5te5laimp"
   },
   "outputs": [],
   "source": [
    "# prima operazione: trasformo le immagini rappresentate come una matrice 8x8\n",
    "# in un array di 64 elementi\n",
    "n_samples = len(digits.images)\n",
    "data = digits.images.reshape((n_samples, -1))\n",
    "\n",
    "# creo un random forest classifier con 10 alberi\n",
    "n_trees = 10\n",
    "\n",
    "forest = RandomForestClassifier(n_estimators=n_trees, random_state=42)\n",
    "\n",
    "# divido training e test in 75% - 25%\n",
    "X_train, X_test, y_train, y_test = train_test_split(data, digits.target, random_state=42)\n",
    "\n",
    "# creo il classificatore partendo dal training set\n",
    "forest.fit(X_train, y_train)\n",
    "\n",
    "# predizione sul test set\n",
    "predicted = forest.predict(X_test)"
   ]
  },
  {
   "cell_type": "code",
   "execution_count": 4,
   "metadata": {
    "colab": {
     "base_uri": "https://localhost:8080/",
     "height": 804
    },
    "id": "6u8hb_D-bYpf",
    "outputId": "3c2c143a-5ca0-4077-f7ac-6da90781f12b"
   },
   "outputs": [
    {
     "name": "stdout",
     "output_type": "stream",
     "text": [
      "Classification report for classifier RandomForestClassifier(n_estimators=10, random_state=42):\n",
      "              precision    recall  f1-score   support\n",
      "\n",
      "           0       0.98      1.00      0.99        43\n",
      "           1       0.90      1.00      0.95        37\n",
      "           2       1.00      1.00      1.00        38\n",
      "           3       0.96      0.93      0.95        46\n",
      "           4       0.95      0.98      0.96        55\n",
      "           5       1.00      0.95      0.97        59\n",
      "           6       0.98      0.98      0.98        45\n",
      "           7       0.95      0.98      0.96        41\n",
      "           8       0.92      0.95      0.94        38\n",
      "           9       1.00      0.90      0.95        48\n",
      "\n",
      "    accuracy                           0.96       450\n",
      "   macro avg       0.96      0.97      0.96       450\n",
      "weighted avg       0.97      0.96      0.96       450\n",
      "\n",
      "\n"
     ]
    },
    {
     "data": {
      "image/png": "[encoded data removed]",
      "text/plain": [
       "<Figure size 720x216 with 4 Axes>"
      ]
     },
     "metadata": {
      "needs_background": "light"
     },
     "output_type": "display_data"
    },
    {
     "data": {
      "image/png": "[encoded data removed]",
      "text/plain": [
       "<Figure size 432x288 with 2 Axes>"
      ]
     },
     "metadata": {
      "needs_background": "light"
     },
     "output_type": "display_data"
    }
   ],
   "source": [
    "# mostro alcune metriche\n",
    "_, axes = plt.subplots(nrows=1, ncols=4, figsize=(10, 3))\n",
    "for ax, image, prediction in zip(axes, X_test, predicted):\n",
    "    ax.set_axis_off()\n",
    "    image = image.reshape(8, 8)\n",
    "    ax.imshow(image, cmap=plt.cm.gray_r, interpolation=\"nearest\")\n",
    "    ax.set_title(f\"Prediction: {prediction}\")\n",
    "\n",
    "print(\n",
    "    f\"Classification report for classifier {forest}:\\n\"\n",
    "    f\"{metrics.classification_report(y_test, predicted)}\\n\"\n",
    ")\n",
    "\n",
    "disp = metrics.ConfusionMatrixDisplay.from_predictions(y_test, predicted)\n",
    "disp.figure_.suptitle(\"Confusion Matrix\")\n",
    "# print(f\"Confusion matrix:\\n{disp.confusion_matrix}\")\n",
    "plt.show()\n",
    "\n",
    "# per multiclass\n",
    "# Precision_i = M_{ii} / \\sum_j M_{ji}\n",
    "# Recall_i = M_{ii} / \\sum_j M_{ij}\n",
    "# Controllare che i valori siano uguali a quelli\n",
    "# della matrice di confusione\n",
    "# from sklearn.metrics import confusion_matrix\n",
    "# import numpy as np\n",
    "\n",
    "# cm = confusion_matrix(y_test, predicted)\n",
    "# recall = np.diag(cm) / np.sum(cm, axis = 1)\n",
    "# precision = np.diag(cm) / np.sum(cm, axis = 0)\n",
    "\n",
    "# print(recall)\n",
    "# print(precision)\n"
   ]
  },
  {
   "cell_type": "markdown",
   "metadata": {
    "id": "SHpocrUtOu-e"
   },
   "source": [
    "**Domanda**: quali parametri possiamo cambiare per modificare l'andamento dell'algoritmo?"
   ]
  },
  {
   "cell_type": "code",
   "execution_count": 8,
   "metadata": {
    "colab": {
     "base_uri": "https://localhost:8080/",
     "height": 1000
    },
    "id": "TNrjXbMlJJAV",
    "outputId": "79dd2aea-d5d7-4bf6-fd8b-106fa4cbe5e6"
   },
   "outputs": [
    {
     "name": "stdout",
     "output_type": "stream",
     "text": [
      "Classificati non correttamente: 16\n",
      "Classificata come 3, valore reale 9\n"
     ]
    },
    {
     "data": {
      "text/plain": [
       "<Figure size 432x288 with 0 Axes>"
      ]
     },
     "metadata": {},
     "output_type": "display_data"
    },
    {
     "data": {
      "image/png": "[encoded data removed]",
      "text/plain": [
       "<Figure size 288x288 with 1 Axes>"
      ]
     },
     "metadata": {
      "needs_background": "light"
     },
     "output_type": "display_data"
    },
    {
     "name": "stdout",
     "output_type": "stream",
     "text": [
      "Classificata come 3, valore reale 5\n"
     ]
    },
    {
     "data": {
      "image/png": "[encoded data removed]",
      "text/plain": [
       "<Figure size 288x288 with 1 Axes>"
      ]
     },
     "metadata": {
      "needs_background": "light"
     },
     "output_type": "display_data"
    },
    {
     "name": "stdout",
     "output_type": "stream",
     "text": [
      "Classificata come 7, valore reale 4\n"
     ]
    },
    {
     "data": {
      "image/png": "[encoded data removed]",
      "text/plain": [
       "<Figure size 288x288 with 1 Axes>"
      ]
     },
     "metadata": {
      "needs_background": "light"
     },
     "output_type": "display_data"
    },
    {
     "name": "stdout",
     "output_type": "stream",
     "text": [
      "Classificata come 1, valore reale 7\n"
     ]
    },
    {
     "data": {
      "image/png": "[encoded data removed]",
      "text/plain": [
       "<Figure size 288x288 with 1 Axes>"
      ]
     },
     "metadata": {
      "needs_background": "light"
     },
     "output_type": "display_data"
    },
    {
     "name": "stdout",
     "output_type": "stream",
     "text": [
      "Classificata come 1, valore reale 3\n"
     ]
    },
    {
     "data": {
      "image/png": "[encoded data removed]",
      "text/plain": [
       "<Figure size 288x288 with 1 Axes>"
      ]
     },
     "metadata": {
      "needs_background": "light"
     },
     "output_type": "display_data"
    },
    {
     "name": "stdout",
     "output_type": "stream",
     "text": [
      "Classificata come 7, valore reale 9\n"
     ]
    },
    {
     "data": {
      "image/png": "[encoded data removed]",
      "text/plain": [
       "<Figure size 288x288 with 1 Axes>"
      ]
     },
     "metadata": {
      "needs_background": "light"
     },
     "output_type": "display_data"
    },
    {
     "name": "stdout",
     "output_type": "stream",
     "text": [
      "Classificata come 8, valore reale 3\n"
     ]
    },
    {
     "data": {
      "image/png": "[encoded data removed]",
      "text/plain": [
       "<Figure size 288x288 with 1 Axes>"
      ]
     },
     "metadata": {
      "needs_background": "light"
     },
     "output_type": "display_data"
    },
    {
     "name": "stdout",
     "output_type": "stream",
     "text": [
      "Classificata come 4, valore reale 9\n"
     ]
    },
    {
     "data": {
      "image/png": "[encoded data removed]",
      "text/plain": [
       "<Figure size 288x288 with 1 Axes>"
      ]
     },
     "metadata": {
      "needs_background": "light"
     },
     "output_type": "display_data"
    },
    {
     "name": "stdout",
     "output_type": "stream",
     "text": [
      "Classificata come 1, valore reale 8\n"
     ]
    },
    {
     "data": {
      "image/png": "[encoded data removed]",
      "text/plain": [
       "<Figure size 288x288 with 1 Axes>"
      ]
     },
     "metadata": {
      "needs_background": "light"
     },
     "output_type": "display_data"
    },
    {
     "name": "stdout",
     "output_type": "stream",
     "text": [
      "Classificata come 1, valore reale 8\n"
     ]
    },
    {
     "data": {
      "image/png": "[encoded data removed]",
      "text/plain": [
       "<Figure size 288x288 with 1 Axes>"
      ]
     },
     "metadata": {
      "needs_background": "light"
     },
     "output_type": "display_data"
    },
    {
     "name": "stdout",
     "output_type": "stream",
     "text": [
      "Classificata come 0, valore reale 6\n"
     ]
    },
    {
     "data": {
      "image/png": "[encoded data removed]",
      "text/plain": [
       "<Figure size 288x288 with 1 Axes>"
      ]
     },
     "metadata": {
      "needs_background": "light"
     },
     "output_type": "display_data"
    },
    {
     "name": "stdout",
     "output_type": "stream",
     "text": [
      "Classificata come 4, valore reale 9\n"
     ]
    },
    {
     "data": {
      "image/png": "[encoded data removed]",
      "text/plain": [
       "<Figure size 288x288 with 1 Axes>"
      ]
     },
     "metadata": {
      "needs_background": "light"
     },
     "output_type": "display_data"
    },
    {
     "name": "stdout",
     "output_type": "stream",
     "text": [
      "Classificata come 4, valore reale 9\n"
     ]
    },
    {
     "data": {
      "image/png": "[encoded data removed]",
      "text/plain": [
       "<Figure size 288x288 with 1 Axes>"
      ]
     },
     "metadata": {
      "needs_background": "light"
     },
     "output_type": "display_data"
    },
    {
     "name": "stdout",
     "output_type": "stream",
     "text": [
      "Classificata come 6, valore reale 5\n"
     ]
    },
    {
     "data": {
      "image/png": "[encoded data removed]",
      "text/plain": [
       "<Figure size 288x288 with 1 Axes>"
      ]
     },
     "metadata": {
      "needs_background": "light"
     },
     "output_type": "display_data"
    },
    {
     "name": "stdout",
     "output_type": "stream",
     "text": [
      "Classificata come 8, valore reale 5\n"
     ]
    },
    {
     "data": {
      "image/png": "[encoded data removed]",
      "text/plain": [
       "<Figure size 288x288 with 1 Axes>"
      ]
     },
     "metadata": {
      "needs_background": "light"
     },
     "output_type": "display_data"
    },
    {
     "name": "stdout",
     "output_type": "stream",
     "text": [
      "Classificata come 8, valore reale 3\n"
     ]
    },
    {
     "data": {
      "image/png": "[encoded data removed]",
      "text/plain": [
       "<Figure size 288x288 with 1 Axes>"
      ]
     },
     "metadata": {
      "needs_background": "light"
     },
     "output_type": "display_data"
    }
   ],
   "source": [
    "import matplotlib.pyplot as plt\n",
    "\n",
    "wrong = []\n",
    "for i in range(0,len(X_test)):\n",
    "    prediction = predicted[i]\n",
    "    label = y_test[i]\n",
    "    if prediction != label:\n",
    "        wrong.append(i)\n",
    "\n",
    "print(f\"Classificati non correttamente: {len(wrong)}\")\n",
    "\n",
    "plt.gray()\n",
    "\n",
    "for i in wrong:\n",
    "    print(f\"Classificata come {predicted[i]}, valore reale {y_test[i]}\")\n",
    "    plt.matshow(X_test[i].reshape(8, 8))\n",
    "    plt.show()\n"
   ]
  },
  {
   "cell_type": "markdown",
   "metadata": {
    "id": "3IXG23nCOeXz"
   },
   "source": [
    "**Domanda**: mostrare un grafico dove, al variare del numero di alberi, vengono mostrati il numero di elementi classificati in maniera non corretta."
   ]
  }
 ],
 "metadata": {
  "colab": {
   "collapsed_sections": [],
   "name": "Laboratorio Modulo C - scikit learn - Random forest",
   "provenance": []
  },
  "kernelspec": {
   "display_name": "Python 3 (ipykernel)",
   "language": "python",
   "name": "python3"
  },
  "language_info": {
   "codemirror_mode": {
    "name": "ipython",
    "version": 3
   },
   "file_extension": ".py",
   "mimetype": "text/x-python",
   "name": "python",
   "nbconvert_exporter": "python",
   "pygments_lexer": "ipython3",
   "version": "3.8.12"
  }
 },
 "nbformat": 4,
 "nbformat_minor": 1
}

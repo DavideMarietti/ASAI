{
 "cells": [
  {
   "cell_type": "markdown",
   "metadata": {
    "id": "mWf564UjzaRt"
   },
   "source": [
    "# Laboratorio Modulo C - scikit learn - Unsupervised Learning"
   ]
  },
  {
   "cell_type": "markdown",
   "metadata": {
    "id": "zFYBtzZL0Sgr"
   },
   "source": [
    "# Clustering\n"
   ]
  },
  {
   "cell_type": "code",
   "execution_count": 1,
   "metadata": {
    "id": "DavSfbNoSqlV"
   },
   "outputs": [],
   "source": [
    "from sklearn import datasets\n",
    "import matplotlib as mpl\n",
    "import matplotlib.pyplot as plt\n",
    "import numpy as np\n",
    "import random"
   ]
  },
  {
   "cell_type": "markdown",
   "metadata": {
    "id": "4r3jWZzWTKQi"
   },
   "source": [
    "Importo kmeans"
   ]
  },
  {
   "cell_type": "code",
   "execution_count": 2,
   "metadata": {
    "id": "_PFD14cNTM5A"
   },
   "outputs": [],
   "source": [
    "from sklearn.cluster import KMeans"
   ]
  },
  {
   "cell_type": "markdown",
   "metadata": {
    "id": "HLSkKYPUrV7o"
   },
   "source": [
    "Posso analizzare la bontà del clustering ottenuto calcolando il silhouette score: https://scikit-learn.org/stable/auto_examples/cluster/plot_kmeans_silhouette_analysis.html"
   ]
  },
  {
   "cell_type": "code",
   "execution_count": 3,
   "metadata": {
    "id": "j58uLGBDrjiu"
   },
   "outputs": [],
   "source": [
    "from sklearn.metrics import silhouette_score"
   ]
  },
  {
   "cell_type": "markdown",
   "metadata": {
    "id": "MbhIywD3GQcC"
   },
   "source": [
    "Esempio didattico: dati sintetici."
   ]
  },
  {
   "cell_type": "code",
   "execution_count": 30,
   "metadata": {
    "colab": {
     "base_uri": "https://localhost:8080/",
     "height": 495
    },
    "id": "uuRPva-ZCexG",
    "outputId": "1b85da34-5827-42ee-bb2f-8f33401accd6"
   },
   "outputs": [
    {
     "name": "stdout",
     "output_type": "stream",
     "text": [
      "Silhouette score: 0.8046471668186618\n",
      "Etichette per ogni punto: [0 2 3 1 0 2 3 1 0 2 3 1 0 2 3 1 0 2 3 1 0 2 3 1 0 2 3 1 0 2 3 1 0 2 3 1 0\n",
      " 2 3 1 0 2 3 1 0 2 3 1 0 2 3 1 0 2 3 1 0 2 3 1 0 2 3 1 0 2 3 1 0 2 3 1 0 2\n",
      " 3 1 0 2 3 1 0 2 3 1 0 2 3 1 0 2 3 1 0 2 3 1 0 2 3 1 0 2 3 1 0 2 3 1 0 2 3\n",
      " 1 0 2 3 1 0 2 3 1 0 2 3 1 0 2 3 1 0 2 3 1 0 2 3 1 0 2 3 1 0 2 3 1 0 2 3 1\n",
      " 0 2 3 1 0 2 3 1 0 2 3 1 0 2 3 1 0 2 3 1 0 2 3 1 0 2 3 1 0 2 3 1 0 2 3 1 0\n",
      " 2 3 1 0 2 3 1 0 2 3 1 0 2 3 1]\n",
      "Centroidi: [[1.47001114 1.57104689]\n",
      " [7.53962371 7.46083603]\n",
      " [3.50338751 3.51089136]\n",
      " [5.46649591 5.50481469]]\n"
     ]
    },
    {
     "data": {
      "image/png": "[encoded data removed]",
      "text/plain": [
       "<Figure size 432x288 with 1 Axes>"
      ]
     },
     "metadata": {
      "needs_background": "light"
     },
     "output_type": "display_data"
    }
   ],
   "source": [
    "n_samples = 50\n",
    "delta_1 = 1\n",
    "delta_2 = 3\n",
    "delta_3 = 5\n",
    "delta_4 = 7\n",
    "\n",
    "X_synth = []\n",
    "\n",
    "for i in range(n_samples):\n",
    "    X_synth.append((random.random() + delta_1, random.random() + delta_1))\n",
    "    X_synth.append((random.random() + delta_2, random.random() + delta_2))\n",
    "    X_synth.append((random.random() + delta_3, random.random() + delta_3))\n",
    "    X_synth.append((random.random() + delta_4, random.random() + delta_4))\n",
    "\n",
    "\n",
    "X_plot = [Xs for Xs, Ys in X_synth]\n",
    "Y_plot = [Ys for Xs, Ys in X_synth]\n",
    "\n",
    "# seleziono kmeans con 4 cluster\n",
    "n_clusters = 4\n",
    "\n",
    "estimator = KMeans(n_clusters=n_clusters)\n",
    "estimator.fit(X_synth)\n",
    "score = silhouette_score(X_synth, estimator.labels_)\n",
    "\n",
    "print(f\"Silhouette score: {score}\")\n",
    "print(f\"Etichette per ogni punto: {estimator.labels_}\")\n",
    "print(f\"Centroidi: {estimator.cluster_centers_}\")\n",
    "\n",
    "plt.figure()\n",
    "plt.scatter(X_plot, Y_plot, color=\"cornflowerblue\", label=f\"n_clusters={n_clusters}\")\n",
    "\n",
    "for c in estimator.cluster_centers_:\n",
    "    plt.scatter(c[0], c[1], color=\"red\")\n",
    "\n",
    "plt.xlabel(\"X\")\n",
    "plt.ylabel(\"Y\")\n",
    "plt.title(\"Example\")\n",
    "plt.legend()\n",
    "plt.show()\n",
    "\n"
   ]
  },
  {
   "cell_type": "markdown",
   "metadata": {
    "id": "8lakuyV_GgwH"
   },
   "source": [
    "**Domanda:** graficare l'andamento dei centri dei cluster aumentando il numero di cluster. Come varia il silohuette score?"
   ]
  },
  {
   "cell_type": "markdown",
   "metadata": {
    "id": "9duoNS6IRG9P"
   },
   "source": [
    "Vediamo ora il clustering applicato sul dataset IRIS https://scikit-learn.org/stable/auto_examples/cluster/plot_cluster_iris.html#sphx-glr-auto-examples-cluster-plot-cluster-iris-py"
   ]
  },
  {
   "cell_type": "code",
   "execution_count": 5,
   "metadata": {
    "id": "JyngTTAXRZlj"
   },
   "outputs": [],
   "source": [
    "np.random.seed(5)\n",
    "iris = datasets.load_iris()\n",
    "X = iris.data"
   ]
  },
  {
   "cell_type": "code",
   "execution_count": 6,
   "metadata": {
    "colab": {
     "base_uri": "https://localhost:8080/"
    },
    "id": "WBh_mn6BSA4M",
    "outputId": "74eaf301-1190-468f-bc6c-01d23b7b7794"
   },
   "outputs": [
    {
     "data": {
      "text/plain": [
       "KMeans(n_clusters=5)"
      ]
     },
     "execution_count": 6,
     "metadata": {},
     "output_type": "execute_result"
    }
   ],
   "source": [
    "# seleziono kmeans con 5 cluster\n",
    "n_clusters = 5\n",
    "estimator = KMeans(n_clusters=n_clusters)\n",
    "\n",
    "# fit\n",
    "estimator.fit(X)"
   ]
  },
  {
   "cell_type": "markdown",
   "metadata": {
    "id": "z1abim8cTn1b"
   },
   "source": [
    "Mostro i risultati"
   ]
  },
  {
   "cell_type": "code",
   "execution_count": 31,
   "metadata": {
    "colab": {
     "base_uri": "https://localhost:8080/",
     "height": 247
    },
    "id": "TsC9ybhGTDDp",
    "outputId": "be5e9f0f-ec05-40f2-f8f1-20649c3e97a4"
   },
   "outputs": [
    {
     "name": "stdout",
     "output_type": "stream",
     "text": [
      "0.6758892734684281\n",
      "0.6363173385032534\n",
      "0.8046471668186618\n",
      "0.7077508211625957\n",
      "0.607096353010778\n",
      "0.49113425301514674\n",
      "0.38438654667809274\n"
     ]
    }
   ],
   "source": [
    "estimators = [\n",
    "    (\"k_means_iris_8\", KMeans(n_clusters=8))\n",
    "]\n",
    "\n",
    "# reimposto la colormap\n",
    "# plt.set_cmap('jet')\n",
    "\n",
    "# il seguente codice serve per mostrare i grafici\n",
    "fignum = 1\n",
    "kmeans_labels = []\n",
    "kmeans_cluster_centers = []\n",
    "for name, est in estimators:\n",
    "    fig = plt.figure(fignum, figsize=(4, 3))\n",
    "    ax = fig.add_subplot(111, projection=\"3d\", elev=48, azim=134)\n",
    "    ax.set_position([0, 0, 0.95, 1])\n",
    "    est.fit(X)\n",
    "    labels = est.labels_\n",
    "    kmeans_labels.append(labels)\n",
    "    kmeans_cluster_centers.append(est.cluster_centers_)\n",
    "\n",
    "    ax.scatter(X[:, 3], X[:, 0], X[:, 2], c=labels.astype(float), edgecolor=\"k\")\n",
    "\n",
    "    ax.w_xaxis.set_ticklabels([])\n",
    "    ax.w_yaxis.set_ticklabels([])\n",
    "    ax.w_zaxis.set_ticklabels([])\n",
    "    ax.set_xlabel(\"Petal width\")\n",
    "    ax.set_ylabel(\"Sepal length\")\n",
    "    ax.set_zlabel(\"Petal length\")\n",
    "    ax.set_title(name)\n",
    "    ax.dist = 12\n",
    "    fignum = fignum + 1\n",
    "\n",
    "\n",
    "fig.show()"
   ]
  },
  {
   "cell_type": "markdown",
   "metadata": {
    "id": "JZKIu59QZ2XS"
   },
   "source": [
    "**Domanda**: quali parametri posso modificare per controllare il comportamento dell'algoritmo? Provare ad aggiungere degli elementi nella lista `estimators` così da graficarli."
   ]
  },
  {
   "cell_type": "code",
   "execution_count": 8,
   "metadata": {
    "colab": {
     "base_uri": "https://localhost:8080/"
    },
    "id": "QD03vmyKrpAo",
    "outputId": "d0919b7e-7d0b-44a5-d5b9-5aa821efb389"
   },
   "outputs": [
    {
     "name": "stdout",
     "output_type": "stream",
     "text": [
      "0.35006029596867255\n"
     ]
    }
   ],
   "source": [
    "print(silhouette_score(X, kmeans_labels[0]))"
   ]
  },
  {
   "cell_type": "markdown",
   "metadata": {
    "id": "G6VOjybOtL4U"
   },
   "source": [
    "**Esercizio:** modificare il codice precedente per stampare il silhouette score per clustering eseguito con numero di cluster che varia da 2 a 10."
   ]
  },
  {
   "cell_type": "code",
   "execution_count": 32,
   "metadata": {},
   "outputs": [
    {
     "name": "stdout",
     "output_type": "stream",
     "text": [
      "0.6758892734684281\n",
      "0.6363173385032534\n",
      "0.8046471668186618\n",
      "0.7077508211625957\n",
      "0.6073649540875529\n",
      "0.5034493120685756\n",
      "0.3799848098758653\n"
     ]
    }
   ],
   "source": [
    "for nc in range(2,9):\n",
    "    est = KMeans(n_clusters=nc)\n",
    "    est.fit(X_synth)\n",
    "    labels = est.labels_\n",
    "    score = silhouette_score(X_synth, est.labels_)\n",
    "    print(score)"
   ]
  },
  {
   "cell_type": "markdown",
   "metadata": {
    "id": "z8I5g7JdDekd"
   },
   "source": [
    "# Regole associative"
   ]
  },
  {
   "cell_type": "markdown",
   "metadata": {
    "id": "FqIsebvEDgsv"
   },
   "source": [
    "Vediamo ora come utilizzare le regole associative e l'algoritmo apriori.\n",
    "Ci serve un'ulteriore dipendenza: `mlxtend` http://rasbt.github.io/mlxtend/user_guide/frequent_patterns/apriori/"
   ]
  },
  {
   "cell_type": "code",
   "execution_count": 9,
   "metadata": {
    "colab": {
     "base_uri": "https://localhost:8080/"
    },
    "id": "sHv-gJl_EitP",
    "outputId": "b7942fa3-338e-4f27-abbb-7f2b4ab34575"
   },
   "outputs": [
    {
     "name": "stdout",
     "output_type": "stream",
     "text": [
      "Requirement already satisfied: mlxtend in /home/damiano/anaconda3/lib/python3.8/site-packages (0.22.0)\n",
      "Requirement already satisfied: numpy>=1.16.2 in /home/damiano/anaconda3/lib/python3.8/site-packages (from mlxtend) (1.20.3)\n",
      "Requirement already satisfied: scipy>=1.2.1 in /home/damiano/anaconda3/lib/python3.8/site-packages (from mlxtend) (1.7.3)\n",
      "Requirement already satisfied: joblib>=0.13.2 in /home/damiano/anaconda3/lib/python3.8/site-packages (from mlxtend) (1.1.0)\n",
      "Requirement already satisfied: matplotlib>=3.0.0 in /home/damiano/anaconda3/lib/python3.8/site-packages (from mlxtend) (3.5.1)\n",
      "Requirement already satisfied: setuptools in /home/damiano/anaconda3/lib/python3.8/site-packages (from mlxtend) (58.0.4)\n",
      "Requirement already satisfied: scikit-learn>=1.0.2 in /home/damiano/anaconda3/lib/python3.8/site-packages (from mlxtend) (1.0.2)\n",
      "Requirement already satisfied: pandas>=0.24.2 in /home/damiano/anaconda3/lib/python3.8/site-packages (from mlxtend) (1.4.1)\n",
      "Requirement already satisfied: python-dateutil>=2.7 in /home/damiano/anaconda3/lib/python3.8/site-packages (from matplotlib>=3.0.0->mlxtend) (2.8.2)\n",
      "Requirement already satisfied: kiwisolver>=1.0.1 in /home/damiano/anaconda3/lib/python3.8/site-packages (from matplotlib>=3.0.0->mlxtend) (1.3.2)\n",
      "Requirement already satisfied: fonttools>=4.22.0 in /home/damiano/anaconda3/lib/python3.8/site-packages (from matplotlib>=3.0.0->mlxtend) (4.25.0)\n",
      "Requirement already satisfied: packaging>=20.0 in /home/damiano/anaconda3/lib/python3.8/site-packages (from matplotlib>=3.0.0->mlxtend) (21.3)\n",
      "Requirement already satisfied: pillow>=6.2.0 in /home/damiano/anaconda3/lib/python3.8/site-packages (from matplotlib>=3.0.0->mlxtend) (9.0.1)\n",
      "Requirement already satisfied: pyparsing>=2.2.1 in /home/damiano/anaconda3/lib/python3.8/site-packages (from matplotlib>=3.0.0->mlxtend) (3.0.4)\n",
      "Requirement already satisfied: cycler>=0.10 in /home/damiano/anaconda3/lib/python3.8/site-packages (from matplotlib>=3.0.0->mlxtend) (0.11.0)\n",
      "Requirement already satisfied: pytz>=2020.1 in /home/damiano/anaconda3/lib/python3.8/site-packages (from pandas>=0.24.2->mlxtend) (2021.3)\n",
      "Requirement already satisfied: six>=1.5 in /home/damiano/anaconda3/lib/python3.8/site-packages (from python-dateutil>=2.7->matplotlib>=3.0.0->mlxtend) (1.16.0)\n",
      "Requirement already satisfied: threadpoolctl>=2.0.0 in /home/damiano/anaconda3/lib/python3.8/site-packages (from scikit-learn>=1.0.2->mlxtend) (2.2.0)\n"
     ]
    }
   ],
   "source": [
    "!pip install mlxtend"
   ]
  },
  {
   "cell_type": "markdown",
   "metadata": {
    "id": "852HGrGnEqVe"
   },
   "source": [
    "Partiamo dal seguente dataset"
   ]
  },
  {
   "cell_type": "code",
   "execution_count": 10,
   "metadata": {
    "id": "s-RrJMk7Euof"
   },
   "outputs": [],
   "source": [
    "dataset = [['Latte', 'Cipolla', 'Banana', 'Fagioli', 'Uova', 'Yogurt'],\n",
    "           ['Kiwi', 'Cipolla', 'Banana', 'Fagioli', 'Uova', 'Yogurt'],\n",
    "           ['Latte', 'Mela', 'Fagioli', 'Uova'],\n",
    "           ['Latte', 'Pera', 'Mais', 'Fagioli', 'Yogurt'],\n",
    "           ['Mais', 'Cipolla', 'Cipolla', 'Fagioli', 'Gelato', 'Uova']]"
   ]
  },
  {
   "cell_type": "markdown",
   "metadata": {
    "id": "ZBxjTvQXFMVZ"
   },
   "source": [
    "La libreria richiede il processamento dei dati"
   ]
  },
  {
   "cell_type": "code",
   "execution_count": 11,
   "metadata": {
    "colab": {
     "base_uri": "https://localhost:8080/",
     "height": 206
    },
    "id": "PxzuO9HhFQbu",
    "outputId": "56c7a0d4-067e-4709-fbe7-7e2fc4a20a4b"
   },
   "outputs": [
    {
     "data": {
      "text/html": [
       "<div>\n",
       "<style scoped>\n",
       "    .dataframe tbody tr th:only-of-type {\n",
       "        vertical-align: middle;\n",
       "    }\n",
       "\n",
       "    .dataframe tbody tr th {\n",
       "        vertical-align: top;\n",
       "    }\n",
       "\n",
       "    .dataframe thead th {\n",
       "        text-align: right;\n",
       "    }\n",
       "</style>\n",
       "<table border=\"1\" class=\"dataframe\">\n",
       "  <thead>\n",
       "    <tr style=\"text-align: right;\">\n",
       "      <th></th>\n",
       "      <th>Banana</th>\n",
       "      <th>Cipolla</th>\n",
       "      <th>Fagioli</th>\n",
       "      <th>Gelato</th>\n",
       "      <th>Kiwi</th>\n",
       "      <th>Latte</th>\n",
       "      <th>Mais</th>\n",
       "      <th>Mela</th>\n",
       "      <th>Pera</th>\n",
       "      <th>Uova</th>\n",
       "      <th>Yogurt</th>\n",
       "    </tr>\n",
       "  </thead>\n",
       "  <tbody>\n",
       "    <tr>\n",
       "      <th>0</th>\n",
       "      <td>True</td>\n",
       "      <td>True</td>\n",
       "      <td>True</td>\n",
       "      <td>False</td>\n",
       "      <td>False</td>\n",
       "      <td>True</td>\n",
       "      <td>False</td>\n",
       "      <td>False</td>\n",
       "      <td>False</td>\n",
       "      <td>True</td>\n",
       "      <td>True</td>\n",
       "    </tr>\n",
       "    <tr>\n",
       "      <th>1</th>\n",
       "      <td>True</td>\n",
       "      <td>True</td>\n",
       "      <td>True</td>\n",
       "      <td>False</td>\n",
       "      <td>True</td>\n",
       "      <td>False</td>\n",
       "      <td>False</td>\n",
       "      <td>False</td>\n",
       "      <td>False</td>\n",
       "      <td>True</td>\n",
       "      <td>True</td>\n",
       "    </tr>\n",
       "    <tr>\n",
       "      <th>2</th>\n",
       "      <td>False</td>\n",
       "      <td>False</td>\n",
       "      <td>True</td>\n",
       "      <td>False</td>\n",
       "      <td>False</td>\n",
       "      <td>True</td>\n",
       "      <td>False</td>\n",
       "      <td>True</td>\n",
       "      <td>False</td>\n",
       "      <td>True</td>\n",
       "      <td>False</td>\n",
       "    </tr>\n",
       "    <tr>\n",
       "      <th>3</th>\n",
       "      <td>False</td>\n",
       "      <td>False</td>\n",
       "      <td>True</td>\n",
       "      <td>False</td>\n",
       "      <td>False</td>\n",
       "      <td>True</td>\n",
       "      <td>True</td>\n",
       "      <td>False</td>\n",
       "      <td>True</td>\n",
       "      <td>False</td>\n",
       "      <td>True</td>\n",
       "    </tr>\n",
       "    <tr>\n",
       "      <th>4</th>\n",
       "      <td>False</td>\n",
       "      <td>True</td>\n",
       "      <td>True</td>\n",
       "      <td>True</td>\n",
       "      <td>False</td>\n",
       "      <td>False</td>\n",
       "      <td>True</td>\n",
       "      <td>False</td>\n",
       "      <td>False</td>\n",
       "      <td>True</td>\n",
       "      <td>False</td>\n",
       "    </tr>\n",
       "  </tbody>\n",
       "</table>\n",
       "</div>"
      ],
      "text/plain": [
       "   Banana  Cipolla  Fagioli  Gelato   Kiwi  Latte   Mais   Mela   Pera   Uova  \\\n",
       "0    True     True     True   False  False   True  False  False  False   True   \n",
       "1    True     True     True   False   True  False  False  False  False   True   \n",
       "2   False    False     True   False  False   True  False   True  False   True   \n",
       "3   False    False     True   False  False   True   True  False   True  False   \n",
       "4   False     True     True    True  False  False   True  False  False   True   \n",
       "\n",
       "   Yogurt  \n",
       "0    True  \n",
       "1    True  \n",
       "2   False  \n",
       "3    True  \n",
       "4   False  "
      ]
     },
     "execution_count": 11,
     "metadata": {},
     "output_type": "execute_result"
    }
   ],
   "source": [
    "import pandas as pd\n",
    "from mlxtend.preprocessing import TransactionEncoder\n",
    "\n",
    "te = TransactionEncoder()\n",
    "te_ary = te.fit(dataset).transform(dataset)\n",
    "df = pd.DataFrame(te_ary, columns=te.columns_)\n",
    "df"
   ]
  },
  {
   "cell_type": "markdown",
   "metadata": {
    "id": "JWYvTYZ0Fi2U"
   },
   "source": [
    "Calcoliamo quali itemset hanno almeno supporto 60%."
   ]
  },
  {
   "cell_type": "code",
   "execution_count": 12,
   "metadata": {
    "colab": {
     "base_uri": "https://localhost:8080/",
     "height": 394
    },
    "id": "V6ObY5lwFmdO",
    "outputId": "a461ee62-cb6c-4201-8b68-a421bdde974b"
   },
   "outputs": [
    {
     "data": {
      "text/html": [
       "<div>\n",
       "<style scoped>\n",
       "    .dataframe tbody tr th:only-of-type {\n",
       "        vertical-align: middle;\n",
       "    }\n",
       "\n",
       "    .dataframe tbody tr th {\n",
       "        vertical-align: top;\n",
       "    }\n",
       "\n",
       "    .dataframe thead th {\n",
       "        text-align: right;\n",
       "    }\n",
       "</style>\n",
       "<table border=\"1\" class=\"dataframe\">\n",
       "  <thead>\n",
       "    <tr style=\"text-align: right;\">\n",
       "      <th></th>\n",
       "      <th>support</th>\n",
       "      <th>itemsets</th>\n",
       "    </tr>\n",
       "  </thead>\n",
       "  <tbody>\n",
       "    <tr>\n",
       "      <th>0</th>\n",
       "      <td>0.6</td>\n",
       "      <td>(Cipolla)</td>\n",
       "    </tr>\n",
       "    <tr>\n",
       "      <th>1</th>\n",
       "      <td>1.0</td>\n",
       "      <td>(Fagioli)</td>\n",
       "    </tr>\n",
       "    <tr>\n",
       "      <th>2</th>\n",
       "      <td>0.6</td>\n",
       "      <td>(Latte)</td>\n",
       "    </tr>\n",
       "    <tr>\n",
       "      <th>3</th>\n",
       "      <td>0.8</td>\n",
       "      <td>(Uova)</td>\n",
       "    </tr>\n",
       "    <tr>\n",
       "      <th>4</th>\n",
       "      <td>0.6</td>\n",
       "      <td>(Yogurt)</td>\n",
       "    </tr>\n",
       "    <tr>\n",
       "      <th>5</th>\n",
       "      <td>0.6</td>\n",
       "      <td>(Fagioli, Cipolla)</td>\n",
       "    </tr>\n",
       "    <tr>\n",
       "      <th>6</th>\n",
       "      <td>0.6</td>\n",
       "      <td>(Uova, Cipolla)</td>\n",
       "    </tr>\n",
       "    <tr>\n",
       "      <th>7</th>\n",
       "      <td>0.6</td>\n",
       "      <td>(Latte, Fagioli)</td>\n",
       "    </tr>\n",
       "    <tr>\n",
       "      <th>8</th>\n",
       "      <td>0.8</td>\n",
       "      <td>(Uova, Fagioli)</td>\n",
       "    </tr>\n",
       "    <tr>\n",
       "      <th>9</th>\n",
       "      <td>0.6</td>\n",
       "      <td>(Fagioli, Yogurt)</td>\n",
       "    </tr>\n",
       "    <tr>\n",
       "      <th>10</th>\n",
       "      <td>0.6</td>\n",
       "      <td>(Uova, Fagioli, Cipolla)</td>\n",
       "    </tr>\n",
       "  </tbody>\n",
       "</table>\n",
       "</div>"
      ],
      "text/plain": [
       "    support                  itemsets\n",
       "0       0.6                 (Cipolla)\n",
       "1       1.0                 (Fagioli)\n",
       "2       0.6                   (Latte)\n",
       "3       0.8                    (Uova)\n",
       "4       0.6                  (Yogurt)\n",
       "5       0.6        (Fagioli, Cipolla)\n",
       "6       0.6           (Uova, Cipolla)\n",
       "7       0.6          (Latte, Fagioli)\n",
       "8       0.8           (Uova, Fagioli)\n",
       "9       0.6         (Fagioli, Yogurt)\n",
       "10      0.6  (Uova, Fagioli, Cipolla)"
      ]
     },
     "execution_count": 12,
     "metadata": {},
     "output_type": "execute_result"
    }
   ],
   "source": [
    "from mlxtend.frequent_patterns import apriori\n",
    "\n",
    "apriori(df, min_support=0.6, use_colnames=True)"
   ]
  },
  {
   "cell_type": "markdown",
   "metadata": {
    "id": "QQk3J73YF-E2"
   },
   "source": [
    "Posso combinare supporto e lunghezza delle regole"
   ]
  },
  {
   "cell_type": "code",
   "execution_count": 18,
   "metadata": {
    "colab": {
     "base_uri": "https://localhost:8080/",
     "height": 394
    },
    "id": "E9Wyd2VyGA02",
    "outputId": "a38df904-d0b3-4ed7-bbeb-c96cf8ffca55"
   },
   "outputs": [
    {
     "data": {
      "text/html": [
       "<div>\n",
       "<style scoped>\n",
       "    .dataframe tbody tr th:only-of-type {\n",
       "        vertical-align: middle;\n",
       "    }\n",
       "\n",
       "    .dataframe tbody tr th {\n",
       "        vertical-align: top;\n",
       "    }\n",
       "\n",
       "    .dataframe thead th {\n",
       "        text-align: right;\n",
       "    }\n",
       "</style>\n",
       "<table border=\"1\" class=\"dataframe\">\n",
       "  <thead>\n",
       "    <tr style=\"text-align: right;\">\n",
       "      <th></th>\n",
       "      <th>support</th>\n",
       "      <th>itemsets</th>\n",
       "      <th>length</th>\n",
       "    </tr>\n",
       "  </thead>\n",
       "  <tbody>\n",
       "    <tr>\n",
       "      <th>0</th>\n",
       "      <td>0.6</td>\n",
       "      <td>(Cipolla)</td>\n",
       "      <td>1</td>\n",
       "    </tr>\n",
       "    <tr>\n",
       "      <th>1</th>\n",
       "      <td>1.0</td>\n",
       "      <td>(Fagioli)</td>\n",
       "      <td>1</td>\n",
       "    </tr>\n",
       "    <tr>\n",
       "      <th>2</th>\n",
       "      <td>0.6</td>\n",
       "      <td>(Latte)</td>\n",
       "      <td>1</td>\n",
       "    </tr>\n",
       "    <tr>\n",
       "      <th>3</th>\n",
       "      <td>0.8</td>\n",
       "      <td>(Uova)</td>\n",
       "      <td>1</td>\n",
       "    </tr>\n",
       "    <tr>\n",
       "      <th>4</th>\n",
       "      <td>0.6</td>\n",
       "      <td>(Yogurt)</td>\n",
       "      <td>1</td>\n",
       "    </tr>\n",
       "    <tr>\n",
       "      <th>5</th>\n",
       "      <td>0.6</td>\n",
       "      <td>(Fagioli, Cipolla)</td>\n",
       "      <td>2</td>\n",
       "    </tr>\n",
       "    <tr>\n",
       "      <th>6</th>\n",
       "      <td>0.6</td>\n",
       "      <td>(Uova, Cipolla)</td>\n",
       "      <td>2</td>\n",
       "    </tr>\n",
       "    <tr>\n",
       "      <th>7</th>\n",
       "      <td>0.6</td>\n",
       "      <td>(Latte, Fagioli)</td>\n",
       "      <td>2</td>\n",
       "    </tr>\n",
       "    <tr>\n",
       "      <th>8</th>\n",
       "      <td>0.8</td>\n",
       "      <td>(Uova, Fagioli)</td>\n",
       "      <td>2</td>\n",
       "    </tr>\n",
       "    <tr>\n",
       "      <th>9</th>\n",
       "      <td>0.6</td>\n",
       "      <td>(Fagioli, Yogurt)</td>\n",
       "      <td>2</td>\n",
       "    </tr>\n",
       "    <tr>\n",
       "      <th>10</th>\n",
       "      <td>0.6</td>\n",
       "      <td>(Uova, Fagioli, Cipolla)</td>\n",
       "      <td>3</td>\n",
       "    </tr>\n",
       "  </tbody>\n",
       "</table>\n",
       "</div>"
      ],
      "text/plain": [
       "    support                  itemsets  length\n",
       "0       0.6                 (Cipolla)       1\n",
       "1       1.0                 (Fagioli)       1\n",
       "2       0.6                   (Latte)       1\n",
       "3       0.8                    (Uova)       1\n",
       "4       0.6                  (Yogurt)       1\n",
       "5       0.6        (Fagioli, Cipolla)       2\n",
       "6       0.6           (Uova, Cipolla)       2\n",
       "7       0.6          (Latte, Fagioli)       2\n",
       "8       0.8           (Uova, Fagioli)       2\n",
       "9       0.6         (Fagioli, Yogurt)       2\n",
       "10      0.6  (Uova, Fagioli, Cipolla)       3"
      ]
     },
     "execution_count": 18,
     "metadata": {},
     "output_type": "execute_result"
    }
   ],
   "source": [
    "frequent_itemsets = apriori(df, min_support=0.6, use_colnames=True)\n",
    "# aggiungo la lunghezza\n",
    "frequent_itemsets['length'] = frequent_itemsets['itemsets'].apply(lambda x: len(x))\n",
    "frequent_itemsets"
   ]
  },
  {
   "cell_type": "code",
   "execution_count": 16,
   "metadata": {
    "colab": {
     "base_uri": "https://localhost:8080/",
     "height": 81
    },
    "id": "48mYM1wlGJWi",
    "outputId": "9034d726-2dc8-4a35-cdba-68b15acc671e"
   },
   "outputs": [
    {
     "data": {
      "text/html": [
       "<div>\n",
       "<style scoped>\n",
       "    .dataframe tbody tr th:only-of-type {\n",
       "        vertical-align: middle;\n",
       "    }\n",
       "\n",
       "    .dataframe tbody tr th {\n",
       "        vertical-align: top;\n",
       "    }\n",
       "\n",
       "    .dataframe thead th {\n",
       "        text-align: right;\n",
       "    }\n",
       "</style>\n",
       "<table border=\"1\" class=\"dataframe\">\n",
       "  <thead>\n",
       "    <tr style=\"text-align: right;\">\n",
       "      <th></th>\n",
       "      <th>support</th>\n",
       "      <th>itemsets</th>\n",
       "      <th>length</th>\n",
       "    </tr>\n",
       "  </thead>\n",
       "  <tbody>\n",
       "    <tr>\n",
       "      <th>10</th>\n",
       "      <td>0.6</td>\n",
       "      <td>(Uova, Fagioli, Cipolla)</td>\n",
       "      <td>3</td>\n",
       "    </tr>\n",
       "  </tbody>\n",
       "</table>\n",
       "</div>"
      ],
      "text/plain": [
       "    support                  itemsets  length\n",
       "10      0.6  (Uova, Fagioli, Cipolla)       3"
      ]
     },
     "execution_count": 16,
     "metadata": {},
     "output_type": "execute_result"
    }
   ],
   "source": [
    "frequent_itemsets[ (frequent_itemsets['length'] == 3) &\n",
    "                   (frequent_itemsets['support'] >= 0.5) ]"
   ]
  },
  {
   "cell_type": "code",
   "execution_count": null,
   "metadata": {},
   "outputs": [],
   "source": []
  }
 ],
 "metadata": {
  "colab": {
   "collapsed_sections": [],
   "name": "Laboratorio Modulo C - Unsupervised learning: clustering e regole associative",
   "provenance": []
  },
  "kernelspec": {
   "display_name": "Python 3 (ipykernel)",
   "language": "python",
   "name": "python3"
  },
  "language_info": {
   "codemirror_mode": {
    "name": "ipython",
    "version": 3
   },
   "file_extension": ".py",
   "mimetype": "text/x-python",
   "name": "python",
   "nbconvert_exporter": "python",
   "pygments_lexer": "ipython3",
   "version": "3.8.12"
  }
 },
 "nbformat": 4,
 "nbformat_minor": 1
}

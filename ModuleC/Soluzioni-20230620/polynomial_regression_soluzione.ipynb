{
 "cells": [
  {
   "cell_type": "markdown",
   "metadata": {
    "id": "4PWpQHDFiqKf"
   },
   "source": [
    "# **Polynomial Regression**"
   ]
  },
  {
   "cell_type": "markdown",
   "metadata": {
    "id": "_sENWQOhuHii"
   },
   "source": [
    "In questo esempio viene mostrato come eseguire regressione polinomiale. I comandi utilizzati sono analoghi a quelli per la regressione lineare. Tuttavia, i dati vengono trattati come polinomi utilizzando la classe `PolynomialFeatures`. Le prestazioni del modello vengono valutate tramite le metriche di errore quadratico medio (MSE) e root mean square error (RMSE). "
   ]
  },
  {
   "cell_type": "markdown",
   "metadata": {
    "id": "tvSr7C9wey4t"
   },
   "source": [
    "**Importazione delle librerie necessarie**"
   ]
  },
  {
   "cell_type": "code",
   "execution_count": 2,
   "metadata": {
    "executionInfo": {
     "elapsed": 755,
     "status": "ok",
     "timestamp": 1676470043935,
     "user": {
      "displayName": "BRICE KAMGA NEGUE",
      "userId": "09750417787786752114"
     },
     "user_tz": -60
    },
    "id": "7vI-zf1klIes"
   },
   "outputs": [],
   "source": [
    "import numpy as np\n",
    "from sklearn.preprocessing import PolynomialFeatures\n",
    "from sklearn.linear_model import LinearRegression\n",
    "from sklearn.metrics import mean_squared_error\n",
    "from sklearn.model_selection import train_test_split\n",
    "import matplotlib.pyplot as plt\n",
    "import matplotlib.colors as mcolors"
   ]
  },
  {
   "cell_type": "markdown",
   "metadata": {
    "id": "5-FtWT_AfFIF"
   },
   "source": [
    "**Generazione dei dati**\n",
    "\n",
    "Si utilizza la funzione `arange` di NumPy per generare un array di 30 valori per la variabile indipendente `x` e un array di dati noti per la variabile dipendente `y`."
   ]
  },
  {
   "cell_type": "code",
   "execution_count": 3,
   "metadata": {
    "executionInfo": {
     "elapsed": 9,
     "status": "ok",
     "timestamp": 1676470044569,
     "user": {
      "displayName": "BRICE KAMGA NEGUE",
      "userId": "09750417787786752114"
     },
     "user_tz": -60
    },
    "id": "0B9k69EClK5q"
   },
   "outputs": [],
   "source": [
    "x = np.arange(0, 30)\n",
    "y = [3, 4, 5, 7, 10, 8, 9, 10, 10, 23, 27, 44, 50, 63, 67, 60, 62, 70, 75, 88, 81, 87, 95, 100, 108, 135, 151, 160, 169, 179]"
   ]
  },
  {
   "cell_type": "markdown",
   "metadata": {
    "id": "RdlQ5nhFlfPU"
   },
   "source": [
    "**Generazione delle caratteristiche polinomiali**\n",
    "\n",
    "Utilizziamo la classe `PolynomialFeatures` di scikit-learn per creare le caratteristiche polinomiali delle variabili indipendenti. L'obiettivo della regressione polinomiale è quello di descrivere la relazione tra la variabile `x` ed `y` tramite un polinomio di grado `n` (in questo esempio `n=15`, argomento `degree`)."
   ]
  },
  {
   "cell_type": "code",
   "execution_count": 4,
   "metadata": {
    "executionInfo": {
     "elapsed": 10,
     "status": "ok",
     "timestamp": 1676470044570,
     "user": {
      "displayName": "BRICE KAMGA NEGUE",
      "userId": "09750417787786752114"
     },
     "user_tz": -60
    },
    "id": "G474ah0LlhQw"
   },
   "outputs": [],
   "source": [
    "poly = PolynomialFeatures(degree=15, include_bias=False)\n",
    "x_poly = poly.fit_transform(x.reshape(-1, 1))"
   ]
  },
  {
   "cell_type": "markdown",
   "metadata": {
    "id": "sc21laDLmCoI"
   },
   "source": [
    "**Creazione training set e test set**\n",
    "\n",
    "Si utilizza la funzione `train_test_split` riservando 20% del dataset come test."
   ]
  },
  {
   "cell_type": "code",
   "execution_count": 5,
   "metadata": {
    "executionInfo": {
     "elapsed": 9,
     "status": "ok",
     "timestamp": 1676470044570,
     "user": {
      "displayName": "BRICE KAMGA NEGUE",
      "userId": "09750417787786752114"
     },
     "user_tz": -60
    },
    "id": "ph1iVzAKmEAA"
   },
   "outputs": [],
   "source": [
    "x_train, x_test, y_train, y_test = train_test_split(x_poly, y, test_size=0.2, random_state=1)"
   ]
  },
  {
   "cell_type": "markdown",
   "metadata": {
    "id": "9HSxcKAQlw93"
   },
   "source": [
    "**Addestramento del modello**\n",
    "\n",
    "Si utilizza la classe `LinearRegression` per creare un modello di regressione lineare e il metodo `fit` per addestrarlo sui dati di training."
   ]
  },
  {
   "cell_type": "code",
   "execution_count": 6,
   "metadata": {
    "colab": {
     "base_uri": "https://localhost:8080/"
    },
    "executionInfo": {
     "elapsed": 10,
     "status": "ok",
     "timestamp": 1676470044571,
     "user": {
      "displayName": "BRICE KAMGA NEGUE",
      "userId": "09750417787786752114"
     },
     "user_tz": -60
    },
    "id": "2M8h6kWdmF5V",
    "outputId": "7645efbd-4778-433e-8eab-6fcf48bdd83d"
   },
   "outputs": [
    {
     "data": {
      "text/plain": [
       "LinearRegression()"
      ]
     },
     "execution_count": 6,
     "metadata": {},
     "output_type": "execute_result"
    }
   ],
   "source": [
    "model = LinearRegression()\n",
    "model.fit(x_train, y_train)"
   ]
  },
  {
   "cell_type": "markdown",
   "metadata": {
    "id": "rOtNlUaxmmVb"
   },
   "source": [
    "**Valutazione delle prestazioni del modello**"
   ]
  },
  {
   "cell_type": "code",
   "execution_count": 7,
   "metadata": {
    "colab": {
     "base_uri": "https://localhost:8080/"
    },
    "executionInfo": {
     "elapsed": 10,
     "status": "ok",
     "timestamp": 1676470044572,
     "user": {
      "displayName": "BRICE KAMGA NEGUE",
      "userId": "09750417787786752114"
     },
     "user_tz": -60
    },
    "id": "E0QUkoPrmpHs",
    "outputId": "b167a284-bfd4-40f3-b626-d2cec6a47b68"
   },
   "outputs": [
    {
     "name": "stdout",
     "output_type": "stream",
     "text": [
      "Mean Squared Error: 65.58928858848627\n",
      "Root Mean Squared Error: 8.098721416895772\n"
     ]
    }
   ],
   "source": [
    "y_pred = model.predict(x_test)\n",
    "\n",
    "mse = mean_squared_error(y_test, y_pred)\n",
    "rmse = np.sqrt(mse)\n",
    "\n",
    "print(f\"Mean Squared Error: {mse}\")\n",
    "print(f\"Root Mean Squared Error: {rmse}\")"
   ]
  },
  {
   "cell_type": "markdown",
   "metadata": {
    "id": "AwVFJCmJm72J"
   },
   "source": [
    "**Visualizzazione risultati**"
   ]
  },
  {
   "cell_type": "code",
   "execution_count": 12,
   "metadata": {
    "colab": {
     "base_uri": "https://localhost:8080/",
     "height": 295
    },
    "executionInfo": {
     "elapsed": 9,
     "status": "ok",
     "timestamp": 1676470044574,
     "user": {
      "displayName": "BRICE KAMGA NEGUE",
      "userId": "09750417787786752114"
     },
     "user_tz": -60
    },
    "id": "pXc-OZF7nLSI",
    "outputId": "5e1b25b0-0fc4-4cd3-ddcc-2541df354fd3",
    "scrolled": true
   },
   "outputs": [
    {
     "data": {
      "image/png": "[encoded data removed]",
      "text/plain": [
       "<Figure size 432x288 with 1 Axes>"
      ]
     },
     "metadata": {
      "needs_background": "light"
     },
     "output_type": "display_data"
    }
   ],
   "source": [
    "plt.scatter(x, y, color='blue', label='Target')\n",
    "plt.plot(x, model.predict(v), color='red', label=\"Prediction\")\n",
    "plt.title('Regressione polinomiale')\n",
    "plt.xlabel('x')\n",
    "plt.ylabel('y')\n",
    "# Per impostare un range negli assi \n",
    "# ax = plt.gca()\n",
    "# ax.set_xlim([xmin, xmax])\n",
    "# ax.set_ylim([ymin, ymax])\n",
    "plt.legend()\n",
    "plt.show()"
   ]
  },
  {
   "cell_type": "markdown",
   "metadata": {},
   "source": [
    "**Confronto tra polinomi di diverso grado**\n",
    "\n",
    "Esercizio: provare a ripetere l'esempio utilizzando valori diversi per l'argomento `degree` della classe `PolynomialFeatures`.\n",
    "Graficare poi i risultati e calcolare le relative performance in termini di MSE e RMSE."
   ]
  },
  {
   "cell_type": "code",
   "execution_count": 43,
   "metadata": {},
   "outputs": [
    {
     "data": {
      "image/png": "[encoded data removed]",
      "text/plain": [
       "<Figure size 432x288 with 1 Axes>"
      ]
     },
     "metadata": {
      "needs_background": "light"
     },
     "output_type": "display_data"
    }
   ],
   "source": [
    "plt.clf()\n",
    "plt.scatter(x, y, color='blue', label='Target')\n",
    "plt.title('Regressione polinomiale')\n",
    "plt.xlabel('x')\n",
    "plt.ylabel('y')\n",
    "\n",
    "available_colors = list(mcolors.TABLEAU_COLORS.values())\n",
    "\n",
    "for degree in range(2,7):\n",
    "    poly = PolynomialFeatures(degree=degree, include_bias=False)\n",
    "    x_poly = poly.fit_transform(x.reshape(-1, 1))\n",
    "    x_train, x_test, y_train, y_test = train_test_split(x_poly, y, test_size=0.2, random_state=1)\n",
    "   \n",
    "    model = LinearRegression()\n",
    "    model.fit(x_train, y_train)\n",
    "    y_pred = model.predict(x_test)\n",
    "    plt.plot(x, \n",
    "             model.predict(poly.fit_transform(x.reshape(-1, 1))), \n",
    "             color=available_colors[degree % len(available_colors)], label=f\"Degree {degree}\"\n",
    "            )\n",
    "\n",
    "plt.legend()\n",
    "plt.show()"
   ]
  }
 ],
 "metadata": {
  "colab": {
   "provenance": []
  },
  "kernelspec": {
   "display_name": "Python 3 (ipykernel)",
   "language": "python",
   "name": "python3"
  },
  "language_info": {
   "codemirror_mode": {
    "name": "ipython",
    "version": 3
   },
   "file_extension": ".py",
   "mimetype": "text/x-python",
   "name": "python",
   "nbconvert_exporter": "python",
   "pygments_lexer": "ipython3",
   "version": "3.8.12"
  }
 },
 "nbformat": 4,
 "nbformat_minor": 1
}

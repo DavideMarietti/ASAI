{
 "cells": [
  {
   "cell_type": "markdown",
   "metadata": {
    "id": "Ccps5PhtSX_c"
   },
   "source": [
    "# **Linear Regression**\n",
    "\n"
   ]
  },
  {
   "cell_type": "markdown",
   "metadata": {
    "id": "MEQ-dc4RfuRz"
   },
   "source": [
    "Questo esempio applica regressione lineare sul dataset `diabetes` messo a disposizione dalla libreria scikit learn (sklearn). Viene utilizzata la classe `LinearRegression` per creare ed addestrare il modello e il metodo `predict` durante la fase di test. Le prestazioni del modello vengono valutate utilizzando l'errore quadratico medio (MSE) e l'errore assoluto medio (MAE). Infine viene utilizzata la libreria `matplotlib` per graficare i risultati ottenuti."
   ]
  },
  {
   "cell_type": "markdown",
   "metadata": {
    "id": "mJ81Vyo9Ux_u"
   },
   "source": [
    "**Importazione delle librerie necessarie**"
   ]
  },
  {
   "cell_type": "code",
   "execution_count": 5,
   "metadata": {
    "id": "h7I4uDPvVUbZ"
   },
   "outputs": [],
   "source": [
    "import numpy as np\n",
    "import matplotlib.pyplot as plt\n",
    "from sklearn.datasets import load_diabetes\n",
    "from sklearn.linear_model import LinearRegression\n",
    "from sklearn.metrics import mean_squared_error,  mean_absolute_error\n",
    "from sklearn.model_selection import train_test_split"
   ]
  },
  {
   "cell_type": "markdown",
   "metadata": {
    "id": "DISRUpArVeNn"
   },
   "source": [
    "**Generazione del dataset**"
   ]
  },
  {
   "cell_type": "code",
   "execution_count": 12,
   "metadata": {
    "id": "bPSCXxHjVmuE"
   },
   "outputs": [],
   "source": [
    "x, y = load_diabetes(return_X_y=True)\n",
    "\n",
    "# singola feature\n",
    "x = x[:, np.newaxis, 2]"
   ]
  },
  {
   "cell_type": "markdown",
   "metadata": {
    "id": "QgBMlmMCV8ab"
   },
   "source": [
    "**Creazione training set e test set**\n",
    "\n",
    "Si utilizza la funzione `train_test_split()` per dividere i dati in un set di training e un set di test. Il parametro `test_size` è impostato a 0.2: il 20% del dataset viene utilizzato come test e il rimanente 80% come training. `random_state` è fissato ad 1 per rendere l'esperimento ripetibile."
   ]
  },
  {
   "cell_type": "code",
   "execution_count": 7,
   "metadata": {
    "id": "Roq6tbp4WEZX"
   },
   "outputs": [],
   "source": [
    "x_train, x_test, y_train, y_test = train_test_split(x, y, test_size=0.2, random_state=1)"
   ]
  },
  {
   "cell_type": "markdown",
   "metadata": {
    "id": "K_lG1RtYWhqr"
   },
   "source": [
    "**Addestramento modello di regressione lineare**\n",
    "\n",
    "Si crea un'istanza della classe `LinearRegression` e si utilizza il metodo `fit` per addestrare il modello sui dati di training."
   ]
  },
  {
   "cell_type": "code",
   "execution_count": 8,
   "metadata": {
    "colab": {
     "base_uri": "https://localhost:8080/"
    },
    "id": "ktzDynn8WwhC",
    "outputId": "f71aff41-1adb-42e4-b2ff-a414720cbd0e"
   },
   "outputs": [
    {
     "data": {
      "text/plain": [
       "LinearRegression()"
      ]
     },
     "execution_count": 8,
     "metadata": {},
     "output_type": "execute_result"
    }
   ],
   "source": [
    "model = LinearRegression()\n",
    "model.fit(x_train, y_train)"
   ]
  },
  {
   "cell_type": "markdown",
   "metadata": {
    "id": "uQVqY8NTYfS5"
   },
   "source": [
    "**Test**\n",
    "\n",
    "Esecuzione del modello sui dati di test con il metodo `predict`."
   ]
  },
  {
   "cell_type": "code",
   "execution_count": 9,
   "metadata": {
    "id": "iGr1eRJCZQM8"
   },
   "outputs": [],
   "source": [
    "y_pred = model.predict(x_test)"
   ]
  },
  {
   "cell_type": "markdown",
   "metadata": {
    "id": "c-J3aVIKsup2"
   },
   "source": [
    "**Valutazione delle prestazioni del modello**\n",
    "\n",
    "Vengono calcolati l'errore quadratico medio (MSE) e l'errore assoluto medio (MAE) per valutare le prestazioni del modello."
   ]
  },
  {
   "cell_type": "code",
   "execution_count": 10,
   "metadata": {
    "colab": {
     "base_uri": "https://localhost:8080/"
    },
    "id": "cGZFyR2SZZqc",
    "outputId": "18c7f873-3798-434b-bd82-8b626507593e"
   },
   "outputs": [
    {
     "name": "stdout",
     "output_type": "stream",
     "text": [
      "Mean squared error:  3989.828972760931\n",
      "Mean absolute error:  50.60506110634399\n"
     ]
    }
   ],
   "source": [
    "MSE = mean_squared_error(y_test, y_pred)\n",
    "MAE = mean_absolute_error(y_test, y_pred)\n",
    "\n",
    "print(\"Mean squared error: \", MSE)\n",
    "print(\"Mean absolute error: \", MAE)"
   ]
  },
  {
   "cell_type": "markdown",
   "metadata": {
    "id": "RWV2p9z9ZuY5"
   },
   "source": [
    "**Visualizzazione del risultato**"
   ]
  },
  {
   "cell_type": "code",
   "execution_count": 11,
   "metadata": {
    "colab": {
     "base_uri": "https://localhost:8080/",
     "height": 295
    },
    "id": "d8cuV9Rpb1bv",
    "outputId": "530ed75e-375a-4a16-c032-52d4f6929bd3"
   },
   "outputs": [
    {
     "data": {
      "image/png": "[encoded data removed]",
      "text/plain": [
       "<Figure size 432x288 with 1 Axes>"
      ]
     },
     "metadata": {
      "needs_background": "light"
     },
     "output_type": "display_data"
    }
   ],
   "source": [
    "plt.scatter(x_test, y_test)\n",
    "plt.plot(x_test, y_pred, color='red')\n",
    "plt.title('Regressione Lineare')\n",
    "plt.xlabel('x')\n",
    "plt.ylabel('y')\n",
    "plt.show()"
   ]
  },
  {
   "cell_type": "markdown",
   "metadata": {
    "id": "IMJhFVhj31qK"
   },
   "source": [
    "**Esercizio**\n",
    "\n",
    "Utilizzare il metodo `make_regression` (documentazione disponibile all'indirizzo https://scikit-learn.org/stable/modules/generated/sklearn.datasets.make_regression.html#sklearn-datasets-make-regression) per generare un dataset per classificazione ed applicare gli stessi procedimenti utilizzati per l'esempio precedente. Graficare retta di regressione e performance in termini di MSE e MAE. Stampare inoltre i coefficenti del modello lineare utilizzato nella generazione del dataset (controllare la documentazione). "
   ]
  },
  {
   "cell_type": "code",
   "execution_count": 14,
   "metadata": {},
   "outputs": [
    {
     "name": "stdout",
     "output_type": "stream",
     "text": [
      "Mean squared error:  96.61709760191931\n",
      "Mean absolute error:  7.632213703026953\n"
     ]
    },
    {
     "data": {
      "image/png": "[encoded data removed]",
      "text/plain": [
       "<Figure size 432x288 with 1 Axes>"
      ]
     },
     "metadata": {
      "needs_background": "light"
     },
     "output_type": "display_data"
    }
   ],
   "source": [
    "from sklearn.datasets import make_regression\n",
    "\n",
    "x, y = make_regression(n_samples=100, n_features=1, noise=10, random_state=1)\n",
    "x_train, x_test, y_train, y_test = train_test_split(x, y, test_size=0.2, random_state=1)\n",
    "model = LinearRegression()\n",
    "model.fit(x_train, y_train)\n",
    "y_pred = model.predict(x_test)\n",
    "MSE = mean_squared_error(y_test, y_pred)\n",
    "MAE = mean_absolute_error(y_test, y_pred)\n",
    "\n",
    "print(\"Mean squared error: \", MSE)\n",
    "print(\"Mean absolute error: \", MAE)\n",
    "plt.scatter(x_test, y_test)\n",
    "plt.plot(x_test, y_pred, color='red')\n",
    "plt.title('Regressione Lineare')\n",
    "plt.xlabel('x')\n",
    "plt.ylabel('y')\n",
    "plt.show()"
   ]
  },
  {
   "cell_type": "code",
   "execution_count": null,
   "metadata": {},
   "outputs": [],
   "source": []
  }
 ],
 "metadata": {
  "colab": {
   "provenance": []
  },
  "kernelspec": {
   "display_name": "Python 3 (ipykernel)",
   "language": "python",
   "name": "python3"
  },
  "language_info": {
   "codemirror_mode": {
    "name": "ipython",
    "version": 3
   },
   "file_extension": ".py",
   "mimetype": "text/x-python",
   "name": "python",
   "nbconvert_exporter": "python",
   "pygments_lexer": "ipython3",
   "version": "3.8.12"
  }
 },
 "nbformat": 4,
 "nbformat_minor": 1
}

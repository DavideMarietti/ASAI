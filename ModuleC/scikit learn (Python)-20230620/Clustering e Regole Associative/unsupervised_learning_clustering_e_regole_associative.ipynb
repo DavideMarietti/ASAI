{
 "cells": [
  {
   "cell_type": "markdown",
   "metadata": {
    "id": "mWf564UjzaRt"
   },
   "source": [
    "# Laboratorio Modulo C - scikit learn - Unsupervised Learning"
   ]
  },
  {
   "cell_type": "markdown",
   "metadata": {
    "id": "zFYBtzZL0Sgr"
   },
   "source": [
    "# Clustering\n"
   ]
  },
  {
   "cell_type": "code",
   "execution_count": null,
   "metadata": {
    "id": "DavSfbNoSqlV"
   },
   "outputs": [],
   "source": [
    "from sklearn import datasets\n",
    "import matplotlib as mpl\n",
    "import matplotlib.pyplot as plt\n",
    "import numpy as np\n",
    "import random"
   ]
  },
  {
   "cell_type": "markdown",
   "metadata": {
    "id": "4r3jWZzWTKQi"
   },
   "source": [
    "Importo kmeans"
   ]
  },
  {
   "cell_type": "code",
   "execution_count": null,
   "metadata": {
    "id": "_PFD14cNTM5A"
   },
   "outputs": [],
   "source": [
    "from sklearn.cluster import KMeans"
   ]
  },
  {
   "cell_type": "markdown",
   "metadata": {
    "id": "HLSkKYPUrV7o"
   },
   "source": [
    "Posso analizzare la bontà del clustering ottenuto calcolando il silhouette score: https://scikit-learn.org/stable/auto_examples/cluster/plot_kmeans_silhouette_analysis.html"
   ]
  },
  {
   "cell_type": "code",
   "execution_count": null,
   "metadata": {
    "id": "j58uLGBDrjiu"
   },
   "outputs": [],
   "source": [
    "from sklearn.metrics import silhouette_score"
   ]
  },
  {
   "cell_type": "markdown",
   "metadata": {
    "id": "MbhIywD3GQcC"
   },
   "source": [
    "Esempio didattico: dati sintetici."
   ]
  },
  {
   "cell_type": "code",
   "execution_count": null,
   "metadata": {
    "colab": {
     "base_uri": "https://localhost:8080/",
     "height": 495
    },
    "id": "uuRPva-ZCexG",
    "outputId": "1b85da34-5827-42ee-bb2f-8f33401accd6"
   },
   "outputs": [],
   "source": [
    "n_samples = 50\n",
    "delta_1 = 1\n",
    "delta_2 = 3\n",
    "delta_3 = 5\n",
    "delta_4 = 7\n",
    "\n",
    "X_synth = []\n",
    "\n",
    "for i in range(n_samples):\n",
    "    X_synth.append((random.random() + delta_1, random.random() + delta_1))\n",
    "    X_synth.append((random.random() + delta_2, random.random() + delta_2))\n",
    "    X_synth.append((random.random() + delta_3, random.random() + delta_3))\n",
    "    X_synth.append((random.random() + delta_4, random.random() + delta_4))\n",
    "\n",
    "\n",
    "X_plot = [Xs for Xs, Ys in X_synth]\n",
    "Y_plot = [Ys for Xs, Ys in X_synth]\n",
    "\n",
    "# seleziono kmeans con 4 cluster\n",
    "n_clusters = 4\n",
    "\n",
    "estimator = KMeans(n_clusters=n_clusters)\n",
    "estimator.fit(X_synth)\n",
    "score = silhouette_score(X_synth, estimator.labels_)\n",
    "\n",
    "print(f\"Silhouette score: {score}\")\n",
    "print(f\"Etichette per ogni punto: {estimator.labels_}\")\n",
    "print(f\"Centroidi: {estimator.cluster_centers_}\")\n",
    "\n",
    "plt.figure()\n",
    "plt.scatter(X_plot, Y_plot, color=\"cornflowerblue\", label=f\"n_clusters={n_clusters}\")\n",
    "\n",
    "for c in estimator.cluster_centers_:\n",
    "    plt.scatter(c[0], c[1], color=\"red\")\n",
    "\n",
    "plt.xlabel(\"X\")\n",
    "plt.ylabel(\"Y\")\n",
    "plt.title(\"Example\")\n",
    "plt.legend()\n",
    "plt.show()\n",
    "\n"
   ]
  },
  {
   "cell_type": "markdown",
   "metadata": {
    "id": "8lakuyV_GgwH"
   },
   "source": [
    "**Domanda:** graficare l'andamento dei centri dei cluster aumentando il numero di cluster. Come varia il silohuette score?"
   ]
  },
  {
   "cell_type": "markdown",
   "metadata": {
    "id": "9duoNS6IRG9P"
   },
   "source": [
    "Vediamo ora il clustering applicato sul dataset IRIS https://scikit-learn.org/stable/auto_examples/cluster/plot_cluster_iris.html#sphx-glr-auto-examples-cluster-plot-cluster-iris-py"
   ]
  },
  {
   "cell_type": "code",
   "execution_count": null,
   "metadata": {
    "id": "JyngTTAXRZlj"
   },
   "outputs": [],
   "source": [
    "np.random.seed(5)\n",
    "iris = datasets.load_iris()\n",
    "X = iris.data"
   ]
  },
  {
   "cell_type": "code",
   "execution_count": null,
   "metadata": {
    "colab": {
     "base_uri": "https://localhost:8080/"
    },
    "id": "WBh_mn6BSA4M",
    "outputId": "74eaf301-1190-468f-bc6c-01d23b7b7794"
   },
   "outputs": [],
   "source": [
    "# seleziono kmeans con 5 cluster\n",
    "n_clusters = 5\n",
    "estimator = KMeans(n_clusters=n_clusters)\n",
    "\n",
    "# fit\n",
    "estimator.fit(X)"
   ]
  },
  {
   "cell_type": "markdown",
   "metadata": {
    "id": "z1abim8cTn1b"
   },
   "source": [
    "Mostro i risultati"
   ]
  },
  {
   "cell_type": "code",
   "execution_count": null,
   "metadata": {
    "colab": {
     "base_uri": "https://localhost:8080/",
     "height": 247
    },
    "id": "TsC9ybhGTDDp",
    "outputId": "be5e9f0f-ec05-40f2-f8f1-20649c3e97a4"
   },
   "outputs": [],
   "source": [
    "estimators = [\n",
    "    (\"k_means_iris_8\", KMeans(n_clusters=8))\n",
    "]\n",
    "\n",
    "# reimposto la colormap\n",
    "# plt.set_cmap('jet')\n",
    "\n",
    "# il seguente codice serve per mostrare i grafici\n",
    "fignum = 1\n",
    "kmeans_labels = []\n",
    "kmeans_cluster_centers = []\n",
    "for name, est in estimators:\n",
    "    fig = plt.figure(fignum, figsize=(4, 3))\n",
    "    ax = fig.add_subplot(111, projection=\"3d\", elev=48, azim=134)\n",
    "    ax.set_position([0, 0, 0.95, 1])\n",
    "    est.fit(X)\n",
    "    labels = est.labels_\n",
    "    kmeans_labels.append(labels)\n",
    "    kmeans_cluster_centers.append(est.cluster_centers_)\n",
    "\n",
    "    ax.scatter(X[:, 3], X[:, 0], X[:, 2], c=labels.astype(float), edgecolor=\"k\")\n",
    "\n",
    "    ax.w_xaxis.set_ticklabels([])\n",
    "    ax.w_yaxis.set_ticklabels([])\n",
    "    ax.w_zaxis.set_ticklabels([])\n",
    "    ax.set_xlabel(\"Petal width\")\n",
    "    ax.set_ylabel(\"Sepal length\")\n",
    "    ax.set_zlabel(\"Petal length\")\n",
    "    ax.set_title(name)\n",
    "    ax.dist = 12\n",
    "    fignum = fignum + 1\n",
    "\n",
    "\n",
    "fig.show()"
   ]
  },
  {
   "cell_type": "markdown",
   "metadata": {
    "id": "JZKIu59QZ2XS"
   },
   "source": [
    "**Domanda**: quali parametri posso modificare per controllare il comportamento dell'algoritmo? Provare ad aggiungere degli elementi nella lista `estimators` così da graficarli."
   ]
  },
  {
   "cell_type": "code",
   "execution_count": null,
   "metadata": {
    "colab": {
     "base_uri": "https://localhost:8080/"
    },
    "id": "QD03vmyKrpAo",
    "outputId": "d0919b7e-7d0b-44a5-d5b9-5aa821efb389"
   },
   "outputs": [],
   "source": [
    "print(silhouette_score(X, kmeans_labels[0]))"
   ]
  },
  {
   "cell_type": "markdown",
   "metadata": {
    "id": "G6VOjybOtL4U"
   },
   "source": [
    "**Esercizio:** modificare il codice precedente per stampare il silhouette score per clustering eseguito con numero di cluster che varia da 2 a 10."
   ]
  },
  {
   "cell_type": "code",
   "execution_count": null,
   "metadata": {},
   "outputs": [],
   "source": [
    "for nc in range(2,9):\n",
    "    est = KMeans(n_clusters=nc)\n",
    "    est.fit(X_synth)\n",
    "    labels = est.labels_\n",
    "    score = silhouette_score(X_synth, est.labels_)\n",
    "    print(score)"
   ]
  },
  {
   "cell_type": "markdown",
   "metadata": {
    "id": "z8I5g7JdDekd"
   },
   "source": [
    "# Regole associative"
   ]
  },
  {
   "cell_type": "markdown",
   "metadata": {
    "id": "FqIsebvEDgsv"
   },
   "source": [
    "Vediamo ora come utilizzare le regole associative e l'algoritmo apriori.\n",
    "Ci serve un'ulteriore dipendenza: `mlxtend` http://rasbt.github.io/mlxtend/user_guide/frequent_patterns/apriori/"
   ]
  },
  {
   "cell_type": "code",
   "execution_count": null,
   "metadata": {
    "colab": {
     "base_uri": "https://localhost:8080/"
    },
    "id": "sHv-gJl_EitP",
    "outputId": "b7942fa3-338e-4f27-abbb-7f2b4ab34575"
   },
   "outputs": [],
   "source": [
    "!pip install mlxtend"
   ]
  },
  {
   "cell_type": "markdown",
   "metadata": {
    "id": "852HGrGnEqVe"
   },
   "source": [
    "Partiamo dal seguente dataset"
   ]
  },
  {
   "cell_type": "code",
   "execution_count": null,
   "metadata": {
    "id": "s-RrJMk7Euof"
   },
   "outputs": [],
   "source": [
    "dataset = [['Latte', 'Cipolla', 'Banana', 'Fagioli', 'Uova', 'Yogurt'],\n",
    "           ['Kiwi', 'Cipolla', 'Banana', 'Fagioli', 'Uova', 'Yogurt'],\n",
    "           ['Latte', 'Mela', 'Fagioli', 'Uova'],\n",
    "           ['Latte', 'Pera', 'Mais', 'Fagioli', 'Yogurt'],\n",
    "           ['Mais', 'Cipolla', 'Cipolla', 'Fagioli', 'Gelato', 'Uova']]"
   ]
  },
  {
   "cell_type": "markdown",
   "metadata": {
    "id": "ZBxjTvQXFMVZ"
   },
   "source": [
    "La libreria richiede il processamento dei dati"
   ]
  },
  {
   "cell_type": "code",
   "execution_count": null,
   "metadata": {
    "colab": {
     "base_uri": "https://localhost:8080/",
     "height": 206
    },
    "id": "PxzuO9HhFQbu",
    "outputId": "56c7a0d4-067e-4709-fbe7-7e2fc4a20a4b"
   },
   "outputs": [],
   "source": [
    "import pandas as pd\n",
    "from mlxtend.preprocessing import TransactionEncoder\n",
    "\n",
    "te = TransactionEncoder()\n",
    "te_ary = te.fit(dataset).transform(dataset)\n",
    "df = pd.DataFrame(te_ary, columns=te.columns_)\n",
    "df"
   ]
  },
  {
   "cell_type": "markdown",
   "metadata": {
    "id": "JWYvTYZ0Fi2U"
   },
   "source": [
    "Calcoliamo quali itemset hanno almeno supporto 60%."
   ]
  },
  {
   "cell_type": "code",
   "execution_count": null,
   "metadata": {
    "colab": {
     "base_uri": "https://localhost:8080/",
     "height": 394
    },
    "id": "V6ObY5lwFmdO",
    "outputId": "a461ee62-cb6c-4201-8b68-a421bdde974b"
   },
   "outputs": [],
   "source": [
    "from mlxtend.frequent_patterns import apriori\n",
    "\n",
    "apriori(df, min_support=0.6, use_colnames=True)"
   ]
  },
  {
   "cell_type": "markdown",
   "metadata": {
    "id": "QQk3J73YF-E2"
   },
   "source": [
    "Posso combinare supporto e lunghezza delle regole"
   ]
  },
  {
   "cell_type": "code",
   "execution_count": null,
   "metadata": {
    "colab": {
     "base_uri": "https://localhost:8080/",
     "height": 394
    },
    "id": "E9Wyd2VyGA02",
    "outputId": "a38df904-d0b3-4ed7-bbeb-c96cf8ffca55"
   },
   "outputs": [],
   "source": [
    "frequent_itemsets = apriori(df, min_support=0.6, use_colnames=True)\n",
    "# aggiungo la lunghezza\n",
    "frequent_itemsets['length'] = frequent_itemsets['itemsets'].apply(lambda x: len(x))\n",
    "frequent_itemsets"
   ]
  },
  {
   "cell_type": "code",
   "execution_count": null,
   "metadata": {
    "colab": {
     "base_uri": "https://localhost:8080/",
     "height": 81
    },
    "id": "48mYM1wlGJWi",
    "outputId": "9034d726-2dc8-4a35-cdba-68b15acc671e"
   },
   "outputs": [],
   "source": [
    "frequent_itemsets[ (frequent_itemsets['length'] == 3) &\n",
    "                   (frequent_itemsets['support'] >= 0.5) ]"
   ]
  },
  {
   "cell_type": "code",
   "execution_count": null,
   "metadata": {},
   "outputs": [],
   "source": []
  }
 ],
 "metadata": {
  "colab": {
   "collapsed_sections": [],
   "name": "Laboratorio Modulo C - Unsupervised learning: clustering e regole associative",
   "provenance": []
  },
  "kernelspec": {
   "display_name": "Python 3 (ipykernel)",
   "language": "python",
   "name": "python3"
  },
  "language_info": {
   "codemirror_mode": {
    "name": "ipython",
    "version": 3
   },
   "file_extension": ".py",
   "mimetype": "text/x-python",
   "name": "python",
   "nbconvert_exporter": "python",
   "pygments_lexer": "ipython3",
   "version": "3.8.12"
  }
 },
 "nbformat": 4,
 "nbformat_minor": 1
}

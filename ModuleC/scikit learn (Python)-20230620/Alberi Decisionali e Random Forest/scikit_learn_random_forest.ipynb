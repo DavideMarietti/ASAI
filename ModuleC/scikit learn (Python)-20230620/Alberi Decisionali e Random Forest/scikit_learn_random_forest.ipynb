{
 "cells": [
  {
   "cell_type": "markdown",
   "metadata": {
    "id": "mWf564UjzaRt"
   },
   "source": [
    "# Laboratorio Modulo C - scikit learn - Random forest"
   ]
  },
  {
   "cell_type": "markdown",
   "metadata": {
    "id": "JtK41Jy8JyWQ"
   },
   "source": [
    "Proviamo ad applicare le random forest per fare classificazione con il dataset digits. L'obiettivo è quello di classificare automaticamente le cifre da 0 a 9."
   ]
  },
  {
   "cell_type": "code",
   "execution_count": null,
   "metadata": {
    "id": "9Hc6cbfDKk5W"
   },
   "outputs": [],
   "source": [
    "# importo le varie librerie\n",
    "import matplotlib.pyplot as plt\n",
    "from sklearn import datasets, metrics\n",
    "from sklearn.ensemble import RandomForestClassifier\n",
    "from sklearn.model_selection import train_test_split"
   ]
  },
  {
   "cell_type": "code",
   "execution_count": null,
   "metadata": {
    "colab": {
     "base_uri": "https://localhost:8080/",
     "height": 127
    },
    "id": "6BxwzbPKaX3E",
    "outputId": "b3c5eba1-e4a2-4d6a-c825-b79430b9f6a9"
   },
   "outputs": [],
   "source": [
    "# carico il dataset digits\n",
    "digits = datasets.load_digits()\n",
    "\n",
    "# mostro le prime 6 immagini\n",
    "_, axes = plt.subplots(nrows=1, ncols=6, figsize=(10, 3))\n",
    "for ax, image, label in zip(axes, digits.images, digits.target):\n",
    "    ax.set_axis_off()\n",
    "    ax.imshow(image, cmap=plt.cm.gray_r, interpolation=\"nearest\")\n",
    "    ax.set_title(f\"Training: {label}\")"
   ]
  },
  {
   "cell_type": "code",
   "execution_count": null,
   "metadata": {
    "id": "2wx5te5laimp"
   },
   "outputs": [],
   "source": [
    "# prima operazione: trasformo le immagini rappresentate come una matrice 8x8\n",
    "# in un array di 64 elementi\n",
    "n_samples = len(digits.images)\n",
    "data = digits.images.reshape((n_samples, -1))\n",
    "\n",
    "# creo un random forest classifier con 10 alberi\n",
    "n_trees = 10\n",
    "\n",
    "forest = RandomForestClassifier(n_estimators=n_trees, random_state=42)\n",
    "\n",
    "# divido training e test in 75% - 25%\n",
    "X_train, X_test, y_train, y_test = train_test_split(data, digits.target, random_state=42)\n",
    "\n",
    "# creo il classificatore partendo dal training set\n",
    "forest.fit(X_train, y_train)\n",
    "\n",
    "# predizione sul test set\n",
    "predicted = forest.predict(X_test)"
   ]
  },
  {
   "cell_type": "code",
   "execution_count": null,
   "metadata": {
    "colab": {
     "base_uri": "https://localhost:8080/",
     "height": 804
    },
    "id": "6u8hb_D-bYpf",
    "outputId": "3c2c143a-5ca0-4077-f7ac-6da90781f12b"
   },
   "outputs": [],
   "source": [
    "# mostro alcune metriche\n",
    "_, axes = plt.subplots(nrows=1, ncols=4, figsize=(10, 3))\n",
    "for ax, image, prediction in zip(axes, X_test, predicted):\n",
    "    ax.set_axis_off()\n",
    "    image = image.reshape(8, 8)\n",
    "    ax.imshow(image, cmap=plt.cm.gray_r, interpolation=\"nearest\")\n",
    "    ax.set_title(f\"Prediction: {prediction}\")\n",
    "\n",
    "print(\n",
    "    f\"Classification report for classifier {forest}:\\n\"\n",
    "    f\"{metrics.classification_report(y_test, predicted)}\\n\"\n",
    ")\n",
    "\n",
    "disp = metrics.ConfusionMatrixDisplay.from_predictions(y_test, predicted)\n",
    "disp.figure_.suptitle(\"Confusion Matrix\")\n",
    "# print(f\"Confusion matrix:\\n{disp.confusion_matrix}\")\n",
    "plt.show()\n",
    "\n",
    "# per multiclass\n",
    "# Precision_i = M_{ii} / \\sum_j M_{ji}\n",
    "# Recall_i = M_{ii} / \\sum_j M_{ij}\n",
    "# Controllare che i valori siano uguali a quelli\n",
    "# della matrice di confusione\n",
    "# from sklearn.metrics import confusion_matrix\n",
    "# import numpy as np\n",
    "\n",
    "# cm = confusion_matrix(y_test, predicted)\n",
    "# recall = np.diag(cm) / np.sum(cm, axis = 1)\n",
    "# precision = np.diag(cm) / np.sum(cm, axis = 0)\n",
    "\n",
    "# print(recall)\n",
    "# print(precision)\n"
   ]
  },
  {
   "cell_type": "markdown",
   "metadata": {
    "id": "SHpocrUtOu-e"
   },
   "source": [
    "**Domanda**: quali parametri possiamo cambiare per modificare l'andamento dell'algoritmo?"
   ]
  },
  {
   "cell_type": "markdown",
   "metadata": {
    "id": "3IXG23nCOeXz"
   },
   "source": [
    "**Domanda**: mostrare un grafico dove, al variare del numero di alberi, vengono mostrati il numero di elementi classificati in maniera non corretta."
   ]
  }
 ],
 "metadata": {
  "colab": {
   "collapsed_sections": [],
   "name": "Laboratorio Modulo C - scikit learn - Random forest",
   "provenance": []
  },
  "kernelspec": {
   "display_name": "Python 3 (ipykernel)",
   "language": "python",
   "name": "python3"
  },
  "language_info": {
   "codemirror_mode": {
    "name": "ipython",
    "version": 3
   },
   "file_extension": ".py",
   "mimetype": "text/x-python",
   "name": "python",
   "nbconvert_exporter": "python",
   "pygments_lexer": "ipython3",
   "version": "3.8.12"
  }
 },
 "nbformat": 4,
 "nbformat_minor": 1
}

{
 "cells": [
  {
   "cell_type": "markdown",
   "metadata": {
    "id": "mWf564UjzaRt"
   },
   "source": [
    "# Laboratorio Modulo C - scikit learn - Introduzione e supervised learning"
   ]
  },
  {
   "cell_type": "markdown",
   "metadata": {
    "id": "wUdaBTLVz-gE"
   },
   "source": [
    "## Introduzione"
   ]
  },
  {
   "cell_type": "markdown",
   "metadata": {
    "id": "bOFlBYMH0tii"
   },
   "source": [
    "Sito ufficiale: https://scikit-learn.org/stable/\n",
    "\n",
    "scikit learn è una libreria open source che mette a disposizione molteplici algoritmi di apprendimento supervisionato e non supervisionato. Fornisce inoltre diversi strumenti per model fitting, preprocessamento dei dati e valutazione di modelli."
   ]
  },
  {
   "cell_type": "markdown",
   "metadata": {
    "id": "wEjTysIlz5KI"
   },
   "source": [
    "## Installazione"
   ]
  },
  {
   "cell_type": "markdown",
   "metadata": {
    "id": "sXRkUp1M1IeB"
   },
   "source": [
    "Esistono diverse possibilità per installare la libreria, sono tutte elencate al seguente link: https://scikit-learn.org/stable/install.html#installation-instructions\n",
    "\n",
    "Noi scegliamo la più veloce e semplice, tramite package manager `pip`.\n",
    "```\n",
    "pip install -U scikit-learn\n",
    "```\n",
    "Per testare l'installazione:\n",
    "```bash\n",
    "python -m pip show scikit-learn  # per controllare la versione installata\n",
    "python -c \"import sklearn; sklearn.show_versions()\"\n",
    "```\n",
    "\n",
    "Un metodo alternativo per l'installazione (consigliato) è tramite l'utilizzo di un virtual environment (conda):\n",
    "```\n",
    "conda create -n sklearn-env -c conda-forge scikit-learn  # creo un nuovo environment\n",
    "conda activate sklearn-env  # attivo l'environment\n",
    "```\n",
    "Per testare l'installazione:\n",
    "```\n",
    "conda list scikit-learn\n",
    "python -c \"import sklearn; sklearn.show_versions()\"\n",
    "```\n",
    "\n",
    "Su google colab, si utilizza il seguente comando (cliccare sul simbolo play che appare quando si sposta il cursore del mouse sopra `[ ]` nel blocco successivo)"
   ]
  },
  {
   "cell_type": "code",
   "execution_count": null,
   "metadata": {
    "colab": {
     "base_uri": "https://localhost:8080/"
    },
    "id": "lqGZaWuz2-4g",
    "outputId": "1ac19071-1d33-4deb-ea53-2ed411ec1312"
   },
   "outputs": [],
   "source": [
    "!pip install scikit-learn"
   ]
  },
  {
   "cell_type": "code",
   "execution_count": null,
   "metadata": {
    "colab": {
     "base_uri": "https://localhost:8080/"
    },
    "id": "OGmAw6y23xiR",
    "outputId": "9fec041e-b608-496a-9aef-11928814e574"
   },
   "outputs": [],
   "source": [
    "import sklearn\n",
    "sklearn.show_versions()"
   ]
  },
  {
   "cell_type": "markdown",
   "metadata": {
    "id": "attHsUL3331M"
   },
   "source": [
    "Per visualizzare i risultati dei diversi algoritmi si può utilizzare la libreria matplotlib: https://matplotlib.org/\n",
    "\n",
    "Per installarla, si può utilizzare pip o conda: https://matplotlib.org/stable/index.html\n",
    "```\n",
    "# con pip\n",
    "pip install -U matplotlib\n",
    "# con conda, nel virtual environment creato per scikit-learn\n",
    "conda install matplotlib\n",
    "```\n",
    "Su google colab matplotlib è già disponibile ed è possibile utilizzarla con"
   ]
  },
  {
   "cell_type": "code",
   "execution_count": null,
   "metadata": {
    "id": "9s_hA0GB606z"
   },
   "outputs": [],
   "source": [
    "import matplotlib as mpl\n",
    "# 'as' viene utiizzato per specificare un nome locale per la libreria"
   ]
  },
  {
   "cell_type": "markdown",
   "metadata": {
    "id": "QBTyaTFK7Cqc"
   },
   "source": [
    "A questo link https://colab.research.google.com/github/jakevdp/PythonDataScienceHandbook/blob/master/notebooks/04.00-Introduction-To-Matplotlib.ipynb potete trovare un notebook colab che spiega passo passo diverse funzionalità di matplotlib."
   ]
  },
  {
   "cell_type": "markdown",
   "metadata": {
    "id": "OTDQN6Cj0HUF"
   },
   "source": [
    "## Primi passi: importazione dataset"
   ]
  },
  {
   "cell_type": "markdown",
   "metadata": {
    "id": "5pcBKHP17so7"
   },
   "source": [
    "scikit learn mette a disposizione diversi dataset. Vediamone un esempio."
   ]
  },
  {
   "cell_type": "code",
   "execution_count": null,
   "metadata": {
    "colab": {
     "base_uri": "https://localhost:8080/",
     "height": 311
    },
    "id": "8Vnz1bGD7sMC",
    "outputId": "b6ce07c8-d545-465f-935f-cbc22c8bb9ce"
   },
   "outputs": [],
   "source": [
    "# digits dataset\n",
    "# importo la libreria per disegnare i grafici\n",
    "import matplotlib.pyplot as plt\n",
    "\n",
    "# importo i dataset di scikit learn\n",
    "from sklearn import datasets\n",
    "\n",
    "# carico il dataset digits\n",
    "# https://scikit-learn.org/stable/modules/generated/sklearn.datasets.load_digits.html#sklearn.datasets.load_digits\n",
    "digits = datasets.load_digits()\n",
    "\n",
    "# stampo le caratteristiche del dataset\n",
    "# mi aspetto (1797, 64): 1797 campioni (immagini) di dimensione 64 (8X8)\n",
    "print(digits.data.shape)\n",
    "\n",
    "# imposto grafico bianco e nero\n",
    "plt.gray()\n",
    "\n",
    "# le immagini sono array di 64 valori: con matshow posso rappresentare un array\n",
    "# come matrice. In questo caso considero il primo elemento\n",
    "plt.matshow(digits.images[0])\n",
    "\n",
    "# mostro il grafico\n",
    "plt.show()\n",
    "\n"
   ]
  },
  {
   "cell_type": "markdown",
   "metadata": {
    "id": "SGRe5Wr30OF5"
   },
   "source": [
    "# Supervised Learning: alberi decisionali (decision tree) e random forest"
   ]
  },
  {
   "cell_type": "markdown",
   "metadata": {
    "id": "7g4MBnTUILdG"
   },
   "source": [
    "## Decision Tree"
   ]
  },
  {
   "cell_type": "markdown",
   "metadata": {
    "id": "pNovr41ZrLos"
   },
   "source": [
    "### Classificazione con decision tree"
   ]
  },
  {
   "cell_type": "markdown",
   "metadata": {
    "id": "0QjML-aTXbPZ"
   },
   "source": [
    "Carichiamo il dataset iris: https://scikit-learn.org/stable/modules/generated/sklearn.datasets.load_iris.html"
   ]
  },
  {
   "cell_type": "code",
   "execution_count": null,
   "metadata": {
    "id": "7xIDwK_3XYmN"
   },
   "outputs": [],
   "source": [
    "from sklearn.datasets import load_iris"
   ]
  },
  {
   "cell_type": "markdown",
   "metadata": {
    "id": "d5Yyqs7SXTDe"
   },
   "source": [
    "Carichiamo la classe che implementa i metodi per [classificazione con alberi decisionali](https://scikit-learn.org/stable/modules/tree.html#tree): [DecisionTreeClassifier](https://scikit-learn.org/stable/modules/generated/sklearn.tree.DecisionTreeClassifier.html) "
   ]
  },
  {
   "cell_type": "code",
   "execution_count": null,
   "metadata": {
    "id": "sA9slM-IXZu-"
   },
   "outputs": [],
   "source": [
    "from sklearn.tree import DecisionTreeClassifier, plot_tree"
   ]
  },
  {
   "cell_type": "markdown",
   "metadata": {
    "id": "q2-wJnxvXu83"
   },
   "source": [
    "Carichiamo la classe che ci permette di suddividere il dataset in training e test."
   ]
  },
  {
   "cell_type": "code",
   "execution_count": null,
   "metadata": {
    "id": "zna-e81wX1fu"
   },
   "outputs": [],
   "source": [
    "from sklearn.model_selection import train_test_split"
   ]
  },
  {
   "cell_type": "code",
   "execution_count": null,
   "metadata": {
    "colab": {
     "base_uri": "https://localhost:8080/",
     "height": 339
    },
    "id": "1KC31Wv1rVo0",
    "outputId": "d6f06285-ac44-4fcd-96c8-b7fd5ba2cb49"
   },
   "outputs": [],
   "source": [
    "state = 42\n",
    "\n",
    "# https://scikit-learn.org/stable/auto_examples/datasets/plot_iris_dataset.htm\n",
    "iris = load_iris()\n",
    "\n",
    "# di default il dataset viene suddiviso in 75% training e 25% test\n",
    "X_train, X_test, y_train, y_test = train_test_split(iris.data, iris.target, random_state=state)\n",
    "\n",
    "clf = DecisionTreeClassifier(max_depth=2, random_state=state)\n",
    "clf.fit(X_train, y_train)\n",
    "\n",
    "# https://scikit-learn.org/stable/auto_examples/tree/plot_unveil_tree_structure.htm\n",
    "plot_tree(clf)\n",
    "\n",
    "# ogni campione ha 4 valori: Sepal Length, Sepal Width, Petal Length e Petal Width.\n",
    "# print(X_train[0])\n",
    "# 3 calssi: Iris Setosa, Iris Versicolour e Iris Virginica\n",
    "# print(len(set(y_train)))\n"
   ]
  },
  {
   "cell_type": "markdown",
   "metadata": {
    "id": "iinq8zygSZcV"
   },
   "source": [
    "Per valutare la bontà di un classificatore posso utilizzare l'accuratezza https://scikit-learn.org/stable/modules/generated/sklearn.metrics.accuracy_score.html"
   ]
  },
  {
   "cell_type": "code",
   "execution_count": null,
   "metadata": {
    "colab": {
     "base_uri": "https://localhost:8080/"
    },
    "id": "lglIpIsLSjjh",
    "outputId": "5504a3c6-b3b9-4818-ab5d-5477eebdb5ab"
   },
   "outputs": [],
   "source": [
    "from sklearn.metrics import accuracy_score\n",
    "\n",
    "y_pred = clf.predict(X_test)\n",
    "print(\"Accuracy:\",accuracy_score(y_test, y_pred))"
   ]
  },
  {
   "cell_type": "markdown",
   "metadata": {
    "id": "kd9x5DOFS1Hx"
   },
   "source": [
    "o la matrice di confusione https://scikit-learn.org/stable/modules/generated/sklearn.metrics.confusion_matrix.html#sklearn.metrics.confusion_matrix"
   ]
  },
  {
   "cell_type": "markdown",
   "metadata": {
    "id": "hl0gOsKTd2JP"
   },
   "source": [
    "La matrice di confusione per classificazione binaria è\n",
    "\n",
    "\\begin{matrix}\n",
    "  & \\mathrm{Positivi} \\ \\mathrm{(reale)} & \\mathrm{Negativi} \\ \\mathrm{(reale)}\\\\\n",
    "\\mathrm{Positivi} \\ \\mathrm{(predetto)} & \\mathrm{TP} & \\mathrm{FP} \\\\\n",
    "\\mathrm{Negativi} \\ \\mathrm{(predetto)} & \\mathrm{FN} & \\mathrm{TN}\n",
    "\\end{matrix}\n",
    "\n",
    "Dove \n",
    "- TP: veri positivi, la classe predetta coincide con quella reale (true)\n",
    "- TN: veri negativi, la classe predetta coincide con quella reale (false)\n",
    "- FP: falsi positivi, la classe predetta è true mentre il dato è false\n",
    "- FN: la classe predetta è false mentre il dato è true\n",
    "\n",
    "Accuracy: $\\frac{\\mathrm{TP} + \\mathrm{TN}}{\\mathrm{TP} + \\mathrm{TN} + \\mathrm{FP} + \\mathrm{FN}}$\n",
    "\n",
    "Precision: $\\frac{\\mathrm{TP}}{\\mathrm{TP} + \\mathrm{FP}}$\n",
    "\n",
    "Recall: $\\frac{\\mathrm{TP}}{\\mathrm{TP} + \\mathrm{FN}}$\n",
    "\n",
    "F1 score: $\\frac{2 \\cdot \\mathrm{Precision} \\cdot \\mathrm{Recall}}{\\mathrm{Precision} + \\mathrm{Recall}}$"
   ]
  },
  {
   "cell_type": "code",
   "execution_count": null,
   "metadata": {
    "colab": {
     "base_uri": "https://localhost:8080/"
    },
    "id": "RSTvOhRkS4rO",
    "outputId": "887e77a3-07f3-4b87-9618-88737ea26b55"
   },
   "outputs": [],
   "source": [
    "from sklearn.metrics import confusion_matrix\n",
    "\n",
    "# Ogni riga rappresenta una classe ed ogni colonna rappresenta \n",
    "# il numero di istanze predette nella classe\n",
    "# Una matrice di confusione C è tale che l'elemento C_{ij} è uguale al numero\n",
    "# di osservazioni delle quali è noto che appartengono al gruppo i e che sono\n",
    "# state predette per il gruppo j\n",
    "y_pred = clf.predict(X_test)\n",
    "print(\"Confusion matrix\\n\", confusion_matrix(y_test, y_pred))"
   ]
  },
  {
   "cell_type": "markdown",
   "metadata": {
    "id": "d1gvChxSTI2d"
   },
   "source": [
    "**Domanda:** calcolare l'accuratezza al variare della percentuale di dati di test (parametro `test_size` del metodo [`train_test_split`](https://scikit-learn.org/stable/modules/generated/sklearn.model_selection.train_test_split.html)) e della profondità dell'albero."
   ]
  },
  {
   "cell_type": "markdown",
   "metadata": {
    "id": "CAP5VGnmj_Wj"
   },
   "source": [
    "**Domanda:** provare altre metriche."
   ]
  },
  {
   "cell_type": "markdown",
   "metadata": {
    "id": "o_ZZZBykC5HB"
   },
   "source": [
    "### Regressione con decision tree"
   ]
  },
  {
   "cell_type": "markdown",
   "metadata": {
    "id": "GBED1kj2-KiV"
   },
   "source": [
    "Proviamo prima con un esempio preso da https://scikit-learn.org/stable/auto_examples/tree/plot_tree_regression.html#sphx-glr-auto-examples-tree-plot-tree-regression-py. Utilizziamo anche la libreria `numpy` (https://numpy.org/install/) che, essendo già disponibile in sickit learn, possiamo importare con"
   ]
  },
  {
   "cell_type": "code",
   "execution_count": null,
   "metadata": {
    "id": "It9EIr1X-Gh1"
   },
   "outputs": [],
   "source": [
    "import numpy as np\n",
    "import matplotlib.pyplot as plt"
   ]
  },
  {
   "cell_type": "markdown",
   "metadata": {
    "id": "57RLp_kp_S3W"
   },
   "source": [
    "Carichiamo la classe che ci permette di utilizzare i decision tree"
   ]
  },
  {
   "cell_type": "code",
   "execution_count": null,
   "metadata": {
    "id": "CN816fcg-0Ct"
   },
   "outputs": [],
   "source": [
    "# DecisionTreeRegressor: https://scikit-learn.org/stable/modules/generated/sklearn.tree.DecisionTreeRegressor.html#sklearn.tree.DecisionTreeRegressor\n",
    "from sklearn.tree import DecisionTreeRegressor, plot_tree"
   ]
  },
  {
   "cell_type": "markdown",
   "metadata": {
    "id": "bIhbHFQJ_jje"
   },
   "source": [
    "Creiamo un dataset di punti casuali (random)"
   ]
  },
  {
   "cell_type": "code",
   "execution_count": null,
   "metadata": {
    "colab": {
     "base_uri": "https://localhost:8080/",
     "height": 295
    },
    "id": "JXGMKhaq_qr-",
    "outputId": "8034a3d7-d94f-4543-8f9c-8649e491c753"
   },
   "outputs": [],
   "source": [
    "# generatore di numeri random inizializzato con lo stato a 1 per poter replicare\n",
    "# i risultati\n",
    "rng = np.random.RandomState(1)\n",
    "\n",
    "# creo un array di 80 numeri random (matrice 80 X 1) compresi tra\n",
    "# 0 e 1, moltiplico tutti i valori per 5 e poi li ordino\n",
    "X = np.sort(5 * rng.rand(80, 1), axis=0)\n",
    "\n",
    "# stampo gli elementi\n",
    "# print(X)\n",
    "\n",
    "# genero i valori per le Y e poi con il metodo ravel \n",
    "# trasformo la matrice in un array\n",
    "# https://numpy.org/doc/stable/reference/generated/numpy.ravel.html\n",
    "y = np.sin(X).ravel()\n",
    "\n",
    "# aggiungo un valore random ogni 5 elementi, partendo dal primo\n",
    "y[::5] += 3 * (0.5 - rng.rand(16))\n",
    "\n",
    "# stampo gli elementi\n",
    "# print(y)\n",
    "\n",
    "# utilizzo decision tree con massima profondità 10\n",
    "regr = DecisionTreeRegressor(max_depth=10)\n",
    "\n",
    "# creo il decision tree partendo dal trainig set (X,y)\n",
    "regr.fit(X, y)\n",
    "\n",
    "# predizione\n",
    "\n",
    "# creo un vettore con tutti gli elementi da 0.0 a 5.0 con passo 0.1 poi\n",
    "# ne incremento la dimensione di 1 con np.newaxis\n",
    "# Esempio: np.arange(0,5,1)\n",
    "# a0 = array([0, 1, 2, 3, 4])\n",
    "# a0.shape\n",
    "# (5,)\n",
    "# array([[0], [1], [2], [3], [4]])\n",
    "# a1 = np.arange(0, 5, 1)[:,np.newaxis]\n",
    "# a1.shape\n",
    "# (5, 1)\n",
    "\n",
    "X_test = np.arange(0.0, 5.0, 0.01)[:, np.newaxis]\n",
    "\n",
    "# predizione\n",
    "y_1 = regr.predict(X_test)\n",
    "\n",
    "# grafico i risultati\n",
    "plt.figure()\n",
    "plt.scatter(X, y, s=20, edgecolor=\"black\", c=\"darkorange\", label=\"data\")\n",
    "plt.plot(X_test, y_1, color=\"cornflowerblue\", label=\"max_depth=10\", linewidth=2)\n",
    "plt.xlabel(\"data\")\n",
    "plt.ylabel(\"target\")\n",
    "plt.title(\"Decision Tree Regression\")\n",
    "plt.legend()\n",
    "plt.show()\n",
    "\n",
    "# per mostrare l'albero\n",
    "# plot_tree(regr)"
   ]
  },
  {
   "cell_type": "markdown",
   "metadata": {
    "id": "hYIlm8j_EEm9"
   },
   "source": [
    "**Domanda**: che prestazioni ha il modello?"
   ]
  },
  {
   "cell_type": "markdown",
   "metadata": {
    "id": "xQe8A2yrNQsl"
   },
   "source": [
    "Proviamo a valutare la bontà del modello utilizzando Mean Absolute Error (MAE) https://scikit-learn.org/stable/modules/generated/sklearn.metrics.mean_absolute_error.html la cui formula è\n",
    "\n",
    "$$\n",
    "\\mathrm{MAE} = \\frac{\\sum_{i = 1}^n |y_i - x_i|}{n}\n",
    "$$\n",
    "\n",
    "dove $n$ è il numero di campioni, $y_i$ è il valore predetto ed $x_i$ è il valore reale."
   ]
  },
  {
   "cell_type": "code",
   "execution_count": null,
   "metadata": {
    "id": "BuX4h6H8ORZm"
   },
   "outputs": [],
   "source": [
    "from sklearn.metrics import mean_absolute_error\n",
    "\n",
    "rng = np.random.RandomState(1)\n",
    "X = np.sort(5 * rng.rand(150, 1), axis=0)\n",
    "y = np.sin(X).ravel()"
   ]
  },
  {
   "cell_type": "markdown",
   "metadata": {
    "id": "ad0xbiVtOn0b"
   },
   "source": [
    "Utilizzo `train_test_split` per suddividere i dati in training e test. Di default, il 25% dei dati viene mantenuto come test"
   ]
  },
  {
   "cell_type": "code",
   "execution_count": null,
   "metadata": {
    "id": "Cg163x07OtEu"
   },
   "outputs": [],
   "source": [
    "from sklearn.model_selection import train_test_split\n",
    "\n",
    "X_train, X_test, y_train, y_test = train_test_split(X, y, random_state = state)\n",
    "\n",
    "# controllo quanti elementi ci sono\n",
    "# print(len(X_train))\n",
    "# print(len(X_test))\n"
   ]
  },
  {
   "cell_type": "code",
   "execution_count": null,
   "metadata": {
    "colab": {
     "base_uri": "https://localhost:8080/"
    },
    "id": "StlwMkUDPNOJ",
    "outputId": "94c20af1-7d32-41ea-c54c-66f347988114"
   },
   "outputs": [],
   "source": [
    "from sklearn.tree import DecisionTreeRegressor\n",
    "\n",
    "regr = DecisionTreeRegressor(max_depth=3, random_state = state)\n",
    "regr.fit(X_train, y_train)\n",
    "\n",
    "# predizione\n",
    "y_1 = regr.predict(X_test)\n",
    "\n",
    "# calcolo errore tra y_test e y_1 (valori ottenuti dal decision tree)\n",
    "MAE = mean_absolute_error(y_test, y_1)\n",
    "\n",
    "print(f\"MAE: {MAE}\")"
   ]
  },
  {
   "cell_type": "markdown",
   "metadata": {
    "id": "kr3Z-pkoewMy"
   },
   "source": [
    "**Domanda:** graficare l'andamento di MAE per diversi valori di `max_depth`."
   ]
  },
  {
   "cell_type": "markdown",
   "metadata": {
    "id": "YBhodfYvP6UA"
   },
   "source": [
    "Proviamo con Mean Squared Error (MSE) https://scikit-learn.org/stable/modules/generated/sklearn.metrics.mean_squared_error.html la cui formula è\n",
    "\n",
    "$$\n",
    "\\mathrm{MSE} = \\frac{\\sum_{i = 1}^n (y_i - x_i)^2}{n}\n",
    "$$"
   ]
  },
  {
   "cell_type": "code",
   "execution_count": null,
   "metadata": {
    "colab": {
     "base_uri": "https://localhost:8080/"
    },
    "id": "9y_ws0mNQRXl",
    "outputId": "341e7389-ba8c-4e53-dade-4f173404a061"
   },
   "outputs": [],
   "source": [
    "from sklearn.metrics import mean_squared_error\n",
    "\n",
    "MSE = mean_squared_error(y_test, y_1)\n",
    "\n",
    "print(f\"MSE: {MSE}\")"
   ]
  },
  {
   "cell_type": "markdown",
   "metadata": {
    "id": "HhHZNYk_QscO"
   },
   "source": [
    "C'è un parametro che si può impostare (`squared`, di default `True`) per restituire il Root Mean Squared Error (RMSE) la cui formula è\n",
    "\n",
    "$$\n",
    "\\mathrm{RMSE} = \\sqrt{\\mathrm{MSE}}\n",
    "$$"
   ]
  },
  {
   "cell_type": "code",
   "execution_count": null,
   "metadata": {
    "colab": {
     "base_uri": "https://localhost:8080/"
    },
    "id": "Le9U7Xz_RGcY",
    "outputId": "123e1161-9a55-4172-cf35-6b6b381261df"
   },
   "outputs": [],
   "source": [
    "RMSE = mean_squared_error(y_test, y_1, squared = False)\n",
    "\n",
    "print(f\"RMSE: {RMSE}\")\n",
    "\n",
    "# controllo che effettivamente il RMSE sia la radice quadrata del MSE\n",
    "# import math\n",
    "# math.sqrt(MSE) == RMSE\n",
    "# mi aspetto True "
   ]
  },
  {
   "cell_type": "markdown",
   "metadata": {
    "id": "MUoRtlXwEYCj"
   },
   "source": [
    "Per graficare più curve nella stessa finestra basta modificare il codice sopra ed inserire una riga del tipo\n",
    "```\n",
    "plt.plot(X_test, y_2, color=\"yellowgreen\", label=\"etichetta\", linewidth=2)\n",
    "```"
   ]
  },
  {
   "cell_type": "markdown",
   "metadata": {
    "id": "EXkFcLl-Em4j"
   },
   "source": [
    "dove `y_2` è il risutato ottenuto, per esempio, utilizzando un regression tree con parametri differenti."
   ]
  },
  {
   "cell_type": "markdown",
   "metadata": {
    "id": "mX7BVf-3R0MA"
   },
   "source": [
    "**Domanda:** graficare l'andamento del MSE al variare della profondità massima  dell'albero (`max_depth`)."
   ]
  }
 ],
 "metadata": {
  "colab": {
   "collapsed_sections": [],
   "name": "Laboratorio Modulo C - scikit learn - Introduzione e alberi decisionali",
   "provenance": []
  },
  "kernelspec": {
   "display_name": "Python 3 (ipykernel)",
   "language": "python",
   "name": "python3"
  },
  "language_info": {
   "codemirror_mode": {
    "name": "ipython",
    "version": 3
   },
   "file_extension": ".py",
   "mimetype": "text/x-python",
   "name": "python",
   "nbconvert_exporter": "python",
   "pygments_lexer": "ipython3",
   "version": "3.8.12"
  }
 },
 "nbformat": 4,
 "nbformat_minor": 1
}

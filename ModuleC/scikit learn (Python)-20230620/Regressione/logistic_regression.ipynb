{
 "cells": [
  {
   "cell_type": "markdown",
   "metadata": {
    "id": "PwhNh6MetSja"
   },
   "source": [
    "# **Logistic Regression**"
   ]
  },
  {
   "cell_type": "markdown",
   "metadata": {
    "id": "1jO8Ufrp3H6a"
   },
   "source": [
    "Questo esempio mostra come eseguire logistic regression utilizzando diversi solver. Il modello viene addestrato utilizzando il metodo `fit`. Vengono valutate le prestazioni in termini di accuratezza e tempo di esecuzione dei solver testati."
   ]
  },
  {
   "cell_type": "markdown",
   "metadata": {
    "id": "FEyZHs_DKVcy"
   },
   "source": [
    "**Importazione delle librerie necessarie**"
   ]
  },
  {
   "cell_type": "code",
   "execution_count": null,
   "metadata": {
    "executionInfo": {
     "elapsed": 388,
     "status": "ok",
     "timestamp": 1676398141679,
     "user": {
      "displayName": "BRICE KAMGA NEGUE",
      "userId": "09750417787786752114"
     },
     "user_tz": -60
    },
    "id": "_hDoI35f7IBT"
   },
   "outputs": [],
   "source": [
    "import numpy as np\n",
    "import matplotlib.pyplot as plt\n",
    "from sklearn.linear_model import LogisticRegression\n",
    "from sklearn.model_selection import train_test_split\n",
    "import time"
   ]
  },
  {
   "cell_type": "markdown",
   "metadata": {
    "id": "AmIYscmCE1VY"
   },
   "source": [
    "**Generazione dataset**\n",
    "\n",
    "Viene generato un dataset sintetico"
   ]
  },
  {
   "cell_type": "code",
   "execution_count": null,
   "metadata": {
    "executionInfo": {
     "elapsed": 7,
     "status": "ok",
     "timestamp": 1676398142307,
     "user": {
      "displayName": "BRICE KAMGA NEGUE",
      "userId": "09750417787786752114"
     },
     "user_tz": -60
    },
    "id": "WfX0DLMZ7NVX"
   },
   "outputs": [],
   "source": [
    "xmin, xmax = -5, 5\n",
    "n_samples = 100\n",
    "np.random.seed(0) # seed impostato per riproducibilità degli esperimenti\n",
    "X = np.random.normal(size=n_samples) # generazione di n_samples campioni da una distribuzione normale\n",
    "\n",
    "y = (X > 0).astype(float) # y è un vettore di n_samples elementi: y[i] = 1 se X[i] > 0, 0 altrimenti\n",
    "\n",
    "X[X > 0] *= 4 # vengono moltiplicati per 4 tutti gli elementi del vettore X maggiore di 0\n",
    "\n",
    "X += 0.3 * np.random.normal(size=n_samples) # vengono aggiunti dei valori random ai campioni\n",
    "\n",
    "X = X[:, np.newaxis] # X viene trasformato in una matrice\n",
    "\n",
    "# grafico dei campioni\n",
    "plt.plot(X)\n"
   ]
  },
  {
   "cell_type": "markdown",
   "metadata": {
    "id": "k4R6blSJE6V5"
   },
   "source": [
    "**Creazione training set e test set**\n",
    "\n",
    "Si utilizza la funzione `train_test_split` per dividere i dati in un set di training e un set di test. Il parametro `test_size` è impostato a 0.2: il 20% del dataset viene utilizzato come test e il rimanente 80% come training. `random_state` è impostato ad 1 per rendere l'esperimento riproducibile."
   ]
  },
  {
   "cell_type": "code",
   "execution_count": null,
   "metadata": {
    "executionInfo": {
     "elapsed": 7,
     "status": "ok",
     "timestamp": 1676398142308,
     "user": {
      "displayName": "BRICE KAMGA NEGUE",
      "userId": "09750417787786752114"
     },
     "user_tz": -60
    },
    "id": "6AtHxNar7Paa"
   },
   "outputs": [],
   "source": [
    "X_train, X_test, y_train, y_test = train_test_split(X, y, test_size=0.2, random_state=1)"
   ]
  },
  {
   "cell_type": "markdown",
   "metadata": {
    "id": "bFKiraOrE-0k"
   },
   "source": [
    "**Creazione del modello di regressione logistica**\n",
    "\n",
    "Si crea un'istanza della classe `LogisticRegression` e viene impostato a 1000 il parametro `max_iter` che controlla il numero massimo di iterazioni per il solver selezionato."
   ]
  },
  {
   "cell_type": "code",
   "execution_count": null,
   "metadata": {
    "executionInfo": {
     "elapsed": 7,
     "status": "ok",
     "timestamp": 1676398142308,
     "user": {
      "displayName": "BRICE KAMGA NEGUE",
      "userId": "09750417787786752114"
     },
     "user_tz": -60
    },
    "id": "0hOy1K8N7SoX"
   },
   "outputs": [],
   "source": [
    "logreg = LogisticRegression(max_iter=1000)\n",
    "solvers = [ 'lbfgs', 'liblinear', 'newton-cg', 'sag'] # solver analizzati\n",
    "train_times = []\n",
    "accuracies = []"
   ]
  },
  {
   "cell_type": "markdown",
   "metadata": {
    "id": "9-uK7siNFThp"
   },
   "source": [
    "Per ciascuno dei solver selezionati:\n",
    "* si utilizza il metodo `fit` per addestrare il modello sui dati di training\n",
    "* si utilizza la funzione `score` per calcolare l'accuratezza media del modello sui dati di test\n",
    "* si utilizza il metodo `time` per calcolare il tempo di addestramento"
   ]
  },
  {
   "cell_type": "code",
   "execution_count": null,
   "metadata": {
    "colab": {
     "base_uri": "https://localhost:8080/"
    },
    "executionInfo": {
     "elapsed": 8,
     "status": "ok",
     "timestamp": 1676398142310,
     "user": {
      "displayName": "BRICE KAMGA NEGUE",
      "userId": "09750417787786752114"
     },
     "user_tz": -60
    },
    "id": "FuLwhcxZ7b7B",
    "outputId": "c65d7dea-2659-4d42-ebb2-7da816c6cfa6"
   },
   "outputs": [],
   "source": [
    "for solver in solvers:\n",
    "    logreg.solver = solver\n",
    "    start_time = time.time()\n",
    "    logreg.fit(X_train, y_train)\n",
    "    train_time = time.time() - start_time\n",
    "    train_times.append(train_time)\n",
    "    accuracy = logreg.score(X_test, y_test)\n",
    "    accuracies.append(accuracy)\n",
    "    print(f'Solver: {solver}')\n",
    "    print(f'Time: {train_time:.4f}s')\n",
    "    print(f'Accuracy: {accuracy:.4f}\\n')"
   ]
  },
  {
   "cell_type": "markdown",
   "metadata": {
    "id": "j3ahe1iXYzTI"
   },
   "source": [
    "**Visualizzazione risultati**"
   ]
  },
  {
   "cell_type": "markdown",
   "metadata": {
    "id": "usnIBstfFX45"
   },
   "source": [
    "* Creazione di un grafico a barre per l'accuratezza"
   ]
  },
  {
   "cell_type": "code",
   "execution_count": null,
   "metadata": {
    "colab": {
     "base_uri": "https://localhost:8080/",
     "height": 295
    },
    "executionInfo": {
     "elapsed": 664,
     "status": "ok",
     "timestamp": 1676398142968,
     "user": {
      "displayName": "BRICE KAMGA NEGUE",
      "userId": "09750417787786752114"
     },
     "user_tz": -60
    },
    "id": "HAw4Jg6y8pOG",
    "outputId": "b58934ff-18aa-4011-d55b-728468f65b88"
   },
   "outputs": [],
   "source": [
    "plt.bar(solvers, accuracies, label='Accuratezza')\n",
    "plt.xlabel('Solver')\n",
    "plt.ylabel('Accuratezza')\n",
    "plt.title('Accuratezza dei Solver')\n",
    "plt.legend(loc='best')\n",
    "plt.show()"
   ]
  },
  {
   "cell_type": "markdown",
   "metadata": {
    "id": "111UoQMputnr"
   },
   "source": [
    "* Creazione di un grafico a barre per i tempi di addestramento"
   ]
  },
  {
   "cell_type": "code",
   "execution_count": null,
   "metadata": {
    "colab": {
     "base_uri": "https://localhost:8080/",
     "height": 295
    },
    "executionInfo": {
     "elapsed": 9,
     "status": "ok",
     "timestamp": 1676398142968,
     "user": {
      "displayName": "BRICE KAMGA NEGUE",
      "userId": "09750417787786752114"
     },
     "user_tz": -60
    },
    "id": "wzp4trSQ86a8",
    "outputId": "8fde369a-28b1-4cd7-890b-7cde2c36b7b8"
   },
   "outputs": [],
   "source": [
    "plt.bar(solvers, train_times, label='Tempo di addestramento')\n",
    "plt.xlabel('Solver')\n",
    "plt.ylabel('Tempo (s)')\n",
    "plt.title('Tempo di Addestramento dei Solver')\n",
    "plt.legend(loc='best')\n",
    "plt.show()"
   ]
  },
  {
   "cell_type": "markdown",
   "metadata": {
    "id": "dccncc_em-BK"
   },
   "source": [
    "In base ai dati ottenuti dai vari solver è possibile selezionare quello che fornisce i risultati migliori in base alle esigenze specifiche di un problema."
   ]
  },
  {
   "cell_type": "markdown",
   "metadata": {
    "id": "zr2608KcPO3x"
   },
   "source": [
    "**Calcolo probabilità e grafico risultati**"
   ]
  },
  {
   "cell_type": "code",
   "execution_count": null,
   "metadata": {
    "colab": {
     "base_uri": "https://localhost:8080/",
     "height": 295
    },
    "executionInfo": {
     "elapsed": 9,
     "status": "ok",
     "timestamp": 1676398142969,
     "user": {
      "displayName": "BRICE KAMGA NEGUE",
      "userId": "09750417787786752114"
     },
     "user_tz": -60
    },
    "id": "hkWVXlzManWs",
    "outputId": "7299db78-d449-4867-dd5d-a81c8ba8fb70"
   },
   "outputs": [],
   "source": [
    "x_range = np.linspace(xmin, xmax, 1000) # creazione di 1000 numeri equidistanti tra xmin e xmax\n",
    "x_range = x_range[:, np.newaxis]\n",
    "y_proba = logreg.predict_proba(x_range) # calcolo la probabilità di appartenenza ad una delle due classi per ciascun campione\n",
    "\n",
    "plt.figure(figsize=(10,4))\n",
    "plt.scatter(X, y, color='black') # grafico campioni\n",
    "\n",
    "plt.plot(x_range, y_proba[:, 1], label='Probability class Y=1', color='red')\n",
    "plt.xlabel('X')\n",
    "plt.ylabel('Y')\n",
    "plt.title('Logistic Regression Function')\n",
    "plt.legend(loc='best')\n",
    "plt.show()"
   ]
  }
 ],
 "metadata": {
  "colab": {
   "provenance": []
  },
  "gpuClass": "standard",
  "kernelspec": {
   "display_name": "Python 3 (ipykernel)",
   "language": "python",
   "name": "python3"
  },
  "language_info": {
   "codemirror_mode": {
    "name": "ipython",
    "version": 3
   },
   "file_extension": ".py",
   "mimetype": "text/x-python",
   "name": "python",
   "nbconvert_exporter": "python",
   "pygments_lexer": "ipython3",
   "version": "3.8.12"
  }
 },
 "nbformat": 4,
 "nbformat_minor": 1
}

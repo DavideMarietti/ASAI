{
 "cells": [
  {
   "cell_type": "markdown",
   "metadata": {
    "id": "zg02FZzDyEqd",
    "slideshow": {
     "slide_type": "notes"
    }
   },
   "source": [
    "##### Copyright 2019 The TensorFlow Authors.\n"
   ]
  },
  {
   "cell_type": "code",
   "execution_count": 1,
   "metadata": {
    "id": "2mapZ9afGJ69",
    "slideshow": {
     "slide_type": "notes"
    }
   },
   "outputs": [],
   "source": [
    "#@title Licensed under the Apache License, Version 2.0 (the \"License\");\n",
    "# you may not use this file except in compliance with the License.\n",
    "# You may obtain a copy of the License at\n",
    "#\n",
    "# https://www.apache.org/licenses/LICENSE-2.0\n",
    "#\n",
    "# Unless required by applicable law or agreed to in writing, software\n",
    "# distributed under the License is distributed on an \"AS IS\" BASIS,\n",
    "# WITHOUT WARRANTIES OR CONDITIONS OF ANY KIND, either express or implied.\n",
    "# See the License for the specific language governing permissions and\n",
    "# limitations under the License."
   ]
  },
  {
   "cell_type": "markdown",
   "metadata": {
    "slideshow": {
     "slide_type": "slide"
    }
   },
   "source": [
    "# Valutazione modello con Scikit-learn"
   ]
  },
  {
   "cell_type": "markdown",
   "metadata": {
    "id": "vjFbdBldyEqf",
    "slideshow": {
     "slide_type": "subslide"
    }
   },
   "source": [
    "## Import libraries\n"
   ]
  },
  {
   "cell_type": "code",
   "execution_count": 2,
   "metadata": {
    "executionInfo": {
     "elapsed": 3289,
     "status": "ok",
     "timestamp": 1655207847627,
     "user": {
      "displayName": "Alice Bizzarri",
      "userId": "00580750687234703535"
     },
     "user_tz": -120
    },
    "id": "LklnLlt6yEqf"
   },
   "outputs": [],
   "source": [
    "import numpy as np\n",
    "import pandas as pd\n",
    "import tensorflow as tf\n",
    "import itertools\n",
    "\n",
    "from tensorflow.keras import layers\n",
    "\n",
    "# from google.colab import drive"
   ]
  },
  {
   "cell_type": "code",
   "execution_count": 3,
   "metadata": {
    "id": "LUC3WqWlZMMy"
   },
   "outputs": [
    {
     "data": {
      "text/plain": [
       "'2.11.1'"
      ]
     },
     "execution_count": 3,
     "metadata": {},
     "output_type": "execute_result"
    }
   ],
   "source": [
    "tf.__version__"
   ]
  },
  {
   "cell_type": "markdown",
   "metadata": {
    "id": "UXvBvobayEqi",
    "slideshow": {
     "slide_type": "subslide"
    }
   },
   "source": [
    "## Carico il test set\n",
    "Carico il test set da google drive e lo leggo come un DataFrame\n"
   ]
  },
  {
   "cell_type": "code",
   "execution_count": 4,
   "metadata": {
    "id": "qJ4Ajn-YyEqj"
   },
   "outputs": [
    {
     "name": "stdout",
     "output_type": "stream",
     "text": [
      "first 5 row: \n",
      "    Unnamed: 0 Type  Age               Breed1  Gender  Color1    Color2   \n",
      "0        7948  Dog   60               Poodle  Female   Black  No Color  \\\n",
      "1       10759  Dog   12          Mixed Breed    Male   Brown    Golden   \n",
      "2        2206  Cat    8  Domestic Short Hair  Female   Brown      Gray   \n",
      "3        4682  Cat    2  Domestic Short Hair  Female  Yellow     Cream   \n",
      "4       11162  Cat    2  Domestic Short Hair  Female   White  No Color   \n",
      "5        8233  Cat    6  Domestic Short Hair  Female  Yellow     White   \n",
      "6        6806  Dog    4          Mixed Breed  Female   Cream     White   \n",
      "7        5175  Dog    3          Mixed Breed  Female   Brown     White   \n",
      "8        4767  Cat   24  Domestic Short Hair  Female    Gray  No Color   \n",
      "9        9828  Dog    6   Labrador Retriever    Male   Brown  No Color   \n",
      "\n",
      "  MaturitySize FurLength Vaccinated Sterilized   Health  Fee  PhotoAmt  target  \n",
      "0        Small     Short   Not Sure         No  Healthy    1         2       1  \n",
      "1       Medium    Medium        Yes        Yes  Healthy    0         4       1  \n",
      "2       Medium     Short         No         No  Healthy    0         2       0  \n",
      "3        Small     Short         No         No  Healthy    0         3       1  \n",
      "4       Medium     Short         No         No  Healthy    0         2       0  \n",
      "5        Small     Short        Yes        Yes  Healthy  150         2       1  \n",
      "6       Medium    Medium        Yes        Yes  Healthy    0         7       0  \n",
      "7       Medium     Short        Yes         No  Healthy    0         7       0  \n",
      "8        Small     Short        Yes   Not Sure  Healthy    0         3       1  \n",
      "9       Medium     Short   Not Sure        Yes  Healthy    8         3       1  \n"
     ]
    }
   ],
   "source": [
    "# drive.mount('/content/drive')\n",
    "\n",
    "# test = pd.read_csv('drive/MyDrive/test_data.csv')\n",
    "test = pd.read_csv('test_data.csv')\n",
    "\n",
    "print(\"first 5 row: \\n\", test.head(10))"
   ]
  },
  {
   "cell_type": "markdown",
   "metadata": {
    "id": "quIyRAspjz07"
   },
   "source": [
    "Carico il modello tramite `tf.keras.models.load_model` e lo visualizzo attraverso `.summary()`:\n"
   ]
  },
  {
   "cell_type": "code",
   "execution_count": 5,
   "metadata": {
    "id": "1sPYFDIXj2qM"
   },
   "outputs": [
    {
     "name": "stderr",
     "output_type": "stream",
     "text": [
      "2023-05-26 09:42:35.250861: W tensorflow/tsl/platform/profile_utils/cpu_utils.cc:128] Failed to get CPU frequency: 0 Hz\n"
     ]
    }
   ],
   "source": [
    "# Use `rankdir='LR'` to make the graph horizontal.\n",
    "model = tf.keras.models.load_model('mymodel/')\n"
   ]
  },
  {
   "cell_type": "markdown",
   "metadata": {
    "id": "GDb23VUisZOf",
    "slideshow": {
     "slide_type": "subslide"
    }
   },
   "source": [
    "## Metriche e scoring: quantificare la qualità della predizioe con scikitlearn\n",
    "\n"
   ]
  },
  {
   "cell_type": "markdown",
   "metadata": {
    "id": "i0Svl3hMtF5H"
   },
   "source": [
    "\n",
    "In questa sezione discuteremo le varie metriche di valutazione de modello distribuite da scikitlearn\n"
   ]
  },
  {
   "cell_type": "markdown",
   "metadata": {
    "id": "siZ8L_r2tRWs"
   },
   "source": [
    "Scikit-learn dispone di un modulo di metriche che fornisce altre metriche che possono essere utilizzate per altri scopi, come ad esempio quando c'è uno squilibrio tra le classi, ecc. Inoltre, consente all'utente di creare metriche di valutazione personalizzate per un compito specifico.\n",
    "\n",
    "Inizieremo importando le librerie necessarie per la nostra esercitazione e impostando alcune impostazioni predefinite."
   ]
  },
  {
   "cell_type": "code",
   "execution_count": 6,
   "metadata": {
    "executionInfo": {
     "elapsed": 285,
     "status": "ok",
     "timestamp": 1655208895125,
     "user": {
      "displayName": "Alice Bizzarri",
      "userId": "00580750687234703535"
     },
     "user_tz": -120
    },
    "id": "1CJeXlp2tITv"
   },
   "outputs": [],
   "source": [
    "import matplotlib.pyplot as plt\n",
    "\n",
    "import sklearn\n",
    "from sklearn import metrics, datasets, neighbors\n",
    "from sklearn.metrics import confusion_matrix, ConfusionMatrixDisplay, classification_report, precision_score, roc_auc_score\n",
    "from sklearn.metrics import recall_score, f1_score, precision_recall_fscore_support, roc_curve, accuracy_score\n",
    "\n"
   ]
  },
  {
   "cell_type": "markdown",
   "metadata": {
    "id": "Srv_GFq3tjnt",
    "slideshow": {
     "slide_type": "subslide"
    }
   },
   "source": [
    "Per prima cosa abbiamo bisogno delle previsioni del modello precedentemente addestrato da confrontare con le etichette effettive degli esempi.\n",
    "In tensorflow esiste la funzione predict che restituisce la probabilità che un dato esempio appartenga a una classe; possiamo sfruttare questa informazione per ricavare le etichette degli esempi."
   ]
  },
  {
   "cell_type": "markdown",
   "metadata": {
    "id": "CtA0q_PHt_VZ"
   },
   "source": [
    "N.B. In questo caso abbiamo bisogno di x e y separati e non del tf.data.Dataset che abbiamo usato precedentemente"
   ]
  },
  {
   "cell_type": "code",
   "execution_count": 7,
   "metadata": {
    "id": "9j-_v9vqkbum"
   },
   "outputs": [],
   "source": [
    "test_df = test.copy()\n",
    "y_real = np.array(test_df.pop('target'))\n",
    "x_test = {key: value for key, value in test_df.items()}\n",
    "def get_prediction(model, x_test, y_test):\n",
    "    predictions_prob = model.predict(x_test)\n",
    "    y_pred=[]\n",
    "    pred_probs=[]\n",
    "    for prob in predictions_prob:\n",
    "        classe = 1 if prob>0.5 else 0\n",
    "        y_pred.append(classe) \n",
    "        pred_probs.append(prob)\n",
    "    return y_pred, pred_probs\n"
   ]
  },
  {
   "cell_type": "markdown",
   "metadata": {
    "id": "RSVEA1HeuaoB",
    "slideshow": {
     "slide_type": "subslide"
    }
   },
   "source": [
    "Ora che abbiamo le nostre etichette reali e previste, possiamo procedere al calcolo delle varie metriche sfruttando la libreria scikitlearn e mostrarle tramite matplotlib.\n",
    "\n"
   ]
  },
  {
   "cell_type": "code",
   "execution_count": 8,
   "metadata": {
    "executionInfo": {
     "elapsed": 512,
     "status": "ok",
     "timestamp": 1655208855011,
     "user": {
      "displayName": "Alice Bizzarri",
      "userId": "00580750687234703535"
     },
     "user_tz": -120
    },
    "id": "QTIiuhjqU66D"
   },
   "outputs": [],
   "source": [
    "def plot_matrix(conf_mat):\n",
    "    with plt.style.context(('ggplot', 'seaborn')):\n",
    "        fig = plt.figure(figsize=(10,10), num=1)\n",
    "        plt.imshow(conf_mat, interpolation='nearest',cmap= plt.cm.Blues )\n",
    "        plt.xticks([0,1],[0,1])\n",
    "        plt.yticks([0,1],[0,1])\n",
    "        plt.xlabel('Predicted Label')\n",
    "        plt.ylabel('Actual Label')\n",
    "        labels = np.array([['TN', 'FP'],['FN', 'TP']])\n",
    "        for i, j in itertools.product(range(conf_mat.shape[0]), range(conf_mat.shape[1])):\n",
    "            text = f\"{labels[i,j] }\\n{conf_mat[i, j]}\\n{(conf_mat[i, j]/np.sum(conf_mat)):.0%}\"\n",
    "            plt.text(j, i, text, horizontalalignment=\"center\",color=\"red\")\n",
    "        plt.grid(None)\n",
    "        plt.title('Confusion Matrix')\n",
    "        plt.colorbar()\n",
    "        plt.show()\n",
    "        return conf_mat"
   ]
  },
  {
   "cell_type": "code",
   "execution_count": 9,
   "metadata": {
    "colab": {
     "base_uri": "https://localhost:8080/",
     "height": 854
    },
    "executionInfo": {
     "elapsed": 1437,
     "status": "ok",
     "timestamp": 1655208943471,
     "user": {
      "displayName": "Alice Bizzarri",
      "userId": "00580750687234703535"
     },
     "user_tz": -120
    },
    "id": "71ubYOh0uaUw",
    "outputId": "1f91ea6f-e7df-4e4b-c689-ba2854c07a80",
    "slideshow": {
     "slide_type": "subslide"
    }
   },
   "outputs": [
    {
     "name": "stdout",
     "output_type": "stream",
     "text": [
      "WARNING:tensorflow:Layers in a Sequential model should only have a single input tensor. Received: inputs={'Unnamed: 0': <tf.Tensor 'IteratorGetNext:12' shape=(None, 1) dtype=int64>, 'Type': <tf.Tensor 'IteratorGetNext:11' shape=(None, 1) dtype=string>, 'Age': <tf.Tensor 'IteratorGetNext:0' shape=(None, 1) dtype=int64>, 'Breed1': <tf.Tensor 'IteratorGetNext:1' shape=(None, 1) dtype=string>, 'Gender': <tf.Tensor 'IteratorGetNext:6' shape=(None, 1) dtype=string>, 'Color1': <tf.Tensor 'IteratorGetNext:2' shape=(None, 1) dtype=string>, 'Color2': <tf.Tensor 'IteratorGetNext:3' shape=(None, 1) dtype=string>, 'MaturitySize': <tf.Tensor 'IteratorGetNext:8' shape=(None, 1) dtype=string>, 'FurLength': <tf.Tensor 'IteratorGetNext:5' shape=(None, 1) dtype=string>, 'Vaccinated': <tf.Tensor 'IteratorGetNext:13' shape=(None, 1) dtype=string>, 'Sterilized': <tf.Tensor 'IteratorGetNext:10' shape=(None, 1) dtype=string>, 'Health': <tf.Tensor 'IteratorGetNext:7' shape=(None, 1) dtype=string>, 'Fee': <tf.Tensor 'IteratorGetNext:4' shape=(None, 1) dtype=int64>, 'PhotoAmt': <tf.Tensor 'IteratorGetNext:9' shape=(None, 1) dtype=int64>}. Consider rewriting this model with the Functional API.\n",
      "73/73 [==============================] - 0s 867us/step\n"
     ]
    },
    {
     "data": {
      "image/png": "[encoded data removed]",
      "text/plain": [
       "<Figure size 1000x1000 with 2 Axes>"
      ]
     },
     "metadata": {},
     "output_type": "display_data"
    },
    {
     "data": {
      "text/plain": [
       "<sklearn.metrics._plot.confusion_matrix.ConfusionMatrixDisplay at 0x1656c6e00>"
      ]
     },
     "execution_count": 9,
     "metadata": {},
     "output_type": "execute_result"
    },
    {
     "data": {
      "image/png": "[encoded data removed]",
      "text/plain": [
       "<Figure size 640x480 with 2 Axes>"
      ]
     },
     "metadata": {},
     "output_type": "display_data"
    }
   ],
   "source": [
    "y_pred, prob = get_prediction(model, x_test, y_real)\n",
    "\n",
    "conf_mat = confusion_matrix(y_real, y_pred)\n",
    "plot_matrix(conf_mat)\n",
    "disp = ConfusionMatrixDisplay(conf_mat)\n",
    "disp.plot()"
   ]
  },
  {
   "cell_type": "code",
   "execution_count": 10,
   "metadata": {
    "executionInfo": {
     "elapsed": 4,
     "status": "ok",
     "timestamp": 1655207899110,
     "user": {
      "displayName": "Alice Bizzarri",
      "userId": "00580750687234703535"
     },
     "user_tz": -120
    },
    "id": "C-7Ky_a-vgym",
    "slideshow": {
     "slide_type": "subslide"
    }
   },
   "outputs": [],
   "source": [
    "def print_report(y_real, y_pred, conf_mat):\n",
    "    [[TN, FP],[FN, TP]] = conf_mat\n",
    "    print('Accuracy  : %.3f'%accuracy_score(y_real, y_pred))\n",
    "    print('Precision  : %.3f'%precision_score(y_real, y_pred))\n",
    "    print('Recall(TPR): %.3f'%recall_score(y_real, y_pred))\n",
    "    print('F1-Score   : %.3f'%f1_score(y_real, y_pred))\n",
    "    print('TNR        : %.3f'%(TN/(TN+FP)))\n",
    "    print('FNR        : %.3f'%(FN/(FN+TP)))"
   ]
  },
  {
   "cell_type": "code",
   "execution_count": 11,
   "metadata": {
    "id": "pzMwwa0TVO2E",
    "slideshow": {
     "slide_type": "subslide"
    }
   },
   "outputs": [
    {
     "name": "stdout",
     "output_type": "stream",
     "text": [
      "Accuracy  : 0.750\n",
      "Precision  : 0.807\n",
      "Recall(TPR): 0.871\n",
      "F1-Score   : 0.838\n",
      "TNR        : 0.406\n",
      "FNR        : 0.129\n"
     ]
    }
   ],
   "source": [
    "print_report(y_real, y_pred, conf_mat)"
   ]
  },
  {
   "cell_type": "code",
   "execution_count": 12,
   "metadata": {
    "id": "1E298WztVqym",
    "slideshow": {
     "slide_type": "subslide"
    }
   },
   "outputs": [
    {
     "data": {
      "image/png": "[encoded data removed]",
      "text/plain": [
       "<Figure size 640x480 with 1 Axes>"
      ]
     },
     "metadata": {},
     "output_type": "display_data"
    }
   ],
   "source": [
    "fpr, tpr, _ = roc_curve(y_real,  prob)\n",
    "auc = roc_auc_score(y_real, prob)\n",
    " \n",
    "plt.figure()\n",
    "plt.plot(fpr, tpr, label=\"AUC:%.2f\" % (auc), linewidth=2, c='red')\n",
    "plt.xlabel(\"False Positive Rate\")\n",
    "plt.ylabel(\"True Positive Rate (recall)\")\n",
    "plt.title('ROC Curve')\n",
    "plt.legend(loc='best')\n",
    "plt.show()"
   ]
  }
 ],
 "metadata": {
  "celltoolbar": "Slideshow",
  "colab": {
   "collapsed_sections": [],
   "name": "ASAI_ModD_02_Evaluate_scikitlearn.ipynb",
   "provenance": [
    {
     "file_id": "https://github.com/tensorflow/docs/blob/master/site/en/tutorials/structured_data/preprocessing_layers.ipynb",
     "timestamp": 1652279065048
    }
   ]
  },
  "kernelspec": {
   "display_name": "Python 3 (ipykernel)",
   "language": "python",
   "name": "python3"
  },
  "language_info": {
   "codemirror_mode": {
    "name": "ipython",
    "version": 3
   },
   "file_extension": ".py",
   "mimetype": "text/x-python",
   "name": "python",
   "nbconvert_exporter": "python",
   "pygments_lexer": "ipython3",
   "version": "3.10.11"
  }
 },
 "nbformat": 4,
 "nbformat_minor": 1
}
